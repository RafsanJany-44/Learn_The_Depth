{
  "nbformat": 4,
  "nbformat_minor": 0,
  "metadata": {
    "colab": {
      "provenance": [],
      "include_colab_link": true
    },
    "kernelspec": {
      "name": "python3",
      "display_name": "Python 3"
    },
    "language_info": {
      "name": "python"
    }
  },
  "cells": [
    {
      "cell_type": "markdown",
      "metadata": {
        "id": "view-in-github",
        "colab_type": "text"
      },
      "source": [
        "<a href=\"https://colab.research.google.com/github/RafsanJany-44/Learn_The_Depth/blob/main/Weights_and_Bias.ipynb\" target=\"_parent\"><img src=\"https://colab.research.google.com/assets/colab-badge.svg\" alt=\"Open In Colab\"/></a>"
      ]
    },
    {
      "cell_type": "markdown",
      "source": [
        "#Lets Make a Traditional Program"
      ],
      "metadata": {
        "id": "40MUeZSOZj4m"
      }
    },
    {
      "cell_type": "code",
      "source": [
        "celsius = [-40, -10,  0,  8, 15, 22,  38]"
      ],
      "metadata": {
        "id": "LoUCYX7uWi83"
      },
      "execution_count": 1,
      "outputs": []
    },
    {
      "cell_type": "code",
      "execution_count": 2,
      "metadata": {
        "id": "qUO8EWPSSEvs"
      },
      "outputs": [],
      "source": [
        "def cel_to_far(c):\n",
        "  f = c * (9/5) + 32\n",
        "  return f"
      ]
    },
    {
      "cell_type": "code",
      "source": [
        "\n",
        "fahrenheit = []\n",
        "for i in celsius:\n",
        "  fahrenheit.append(cel_to_far(i))\n",
        "\n",
        "print(fahrenheit)"
      ],
      "metadata": {
        "id": "QhuYshqxUyAC",
        "colab": {
          "base_uri": "https://localhost:8080/"
        },
        "outputId": "0a6dc8bb-f7df-4d74-d5ab-e7c74d834b87"
      },
      "execution_count": 5,
      "outputs": [
        {
          "output_type": "stream",
          "name": "stdout",
          "text": [
            "[-40.0, 14.0, 32.0, 46.4, 59.0, 71.6, 100.4]\n"
          ]
        }
      ]
    },
    {
      "cell_type": "code",
      "source": [
        "for i,c in enumerate(celsius):\n",
        "  print(c,\"degrees Celsius = \", fahrenheit[i],\"degrees Fahrenheit\")"
      ],
      "metadata": {
        "colab": {
          "base_uri": "https://localhost:8080/"
        },
        "id": "orhKwpNUdQtW",
        "outputId": "28df6f63-a61b-4a0e-bc0b-ee5e669450ae"
      },
      "execution_count": 6,
      "outputs": [
        {
          "output_type": "stream",
          "name": "stdout",
          "text": [
            "-40 degrees Celsius =  -40.0 degrees Fahrenheit\n",
            "-10 degrees Celsius =  14.0 degrees Fahrenheit\n",
            "0 degrees Celsius =  32.0 degrees Fahrenheit\n",
            "8 degrees Celsius =  46.4 degrees Fahrenheit\n",
            "15 degrees Celsius =  59.0 degrees Fahrenheit\n",
            "22 degrees Celsius =  71.6 degrees Fahrenheit\n",
            "38 degrees Celsius =  100.4 degrees Fahrenheit\n"
          ]
        }
      ]
    },
    {
      "cell_type": "markdown",
      "source": [
        "##Lets Do the Job\n",
        "\n",
        "So we have the input and the output. Our Algorithm or formula is f=c*(9/5)+32. Lets make a Nural Network which can detect the algorithm with our inputdata (<i>celsius</i>) and outputdata (<i>fahrenheit</i>).\n",
        "\n"
      ],
      "metadata": {
        "id": "QqLTOlrKck2m"
      }
    },
    {
      "cell_type": "code",
      "source": [
        "import numpy as np"
      ],
      "metadata": {
        "id": "d-DXkpKqdJtW"
      },
      "execution_count": 12,
      "outputs": []
    },
    {
      "cell_type": "markdown",
      "source": [
        "Make Numpy Dataset"
      ],
      "metadata": {
        "id": "jcidD_hGNfyy"
      }
    },
    {
      "cell_type": "code",
      "source": [
        "celsius_in = np.array(celsius,  dtype=float)\n",
        "fahrenheit_out = np.array(fahrenheit,  dtype=float)"
      ],
      "metadata": {
        "id": "no-HTR1cYNK4"
      },
      "execution_count": 13,
      "outputs": []
    },
    {
      "cell_type": "markdown",
      "source": [
        "## Create the model"
      ],
      "metadata": {
        "id": "lhJ5zOZhgCqu"
      }
    },
    {
      "cell_type": "code",
      "source": [
        "import tensorflow as tf\n",
        "#import logging\n",
        "#logger = tf.get_logger()\n",
        "#logger.setLevel(logging.ERROR)"
      ],
      "metadata": {
        "id": "Vvb82gL6g9wu"
      },
      "execution_count": 7,
      "outputs": []
    },
    {
      "cell_type": "markdown",
      "source": [
        "### Build a layer"
      ],
      "metadata": {
        "id": "A4wmxxGTgX3f"
      }
    },
    {
      "cell_type": "markdown",
      "source": [
        "We'll call the layer <font color=\"coral\">`l0`</font> and create it by instantiating <font color=\"coral\">`tf.keras.layers.Dense`</font> with the following configuration:\n",
        "\n",
        "*   <font color=\"coral\">`input_shape=[1]`</font> — This specifies that the input to this layer is a single value. That is, the shape is a one-dimensional array with one member. The single value is a floating point number, representing degrees Celsius.\n",
        "\n",
        "*    <font color=\"coral\">`units=1`</font> — This specifies the number of neurons in the layer. The number of neurons defines how many internal variables the layer has to try to learn how to solve the problem . Since this is the final layer, it is also the size of the model's output — a single float value representing degrees Fahrenheit. (In a multi-layered network, the size and shape of the layer would need to match the <font color=\"coral\">`input_shape`</font> of the next layer.)"
      ],
      "metadata": {
        "id": "13MI7XybHW2x"
      }
    },
    {
      "cell_type": "code",
      "source": [
        "l0 = tf.keras.layers.Dense(units=1, input_shape=[1])"
      ],
      "metadata": {
        "id": "AjbjSebwcgQZ"
      },
      "execution_count": 37,
      "outputs": []
    },
    {
      "cell_type": "markdown",
      "source": [
        "### Assemble layers into the model\n",
        "\n",
        "\n",
        "Once layers are defined, they need to be assembled into a model. The Sequential model definition takes a list of layers as an argument, specifying the calculation order from the input to the output.\n",
        "\n",
        "This model has just a single layer, l0."
      ],
      "metadata": {
        "id": "cahRNMY4ghNd"
      }
    },
    {
      "cell_type": "code",
      "source": [
        "model = tf.keras.Sequential([l0])\n",
        "\n",
        "#model = tf.keras.Sequential(\n",
        "#    tf.keras.layers.Dense(units=1, input_shape=[1])\n",
        "#)\"\"\""
      ],
      "metadata": {
        "id": "p3L4Cws-gPh2"
      },
      "execution_count": 38,
      "outputs": []
    },
    {
      "cell_type": "markdown",
      "source": [
        "## Compile the model, with loss and optimizer functions\n",
        "\n",
        "Before training, the model has to be compiled. When compiled for training, the model is given:\n",
        "\n",
        "- **Loss function** — A way of measuring how far off predictions are from the desired outcome. (The measured difference is called the \"loss\".)\n",
        "\n",
        "- **Optimizer function** — A way of adjusting internal values in order to reduce the loss.\n"
      ],
      "metadata": {
        "id": "Ss1eyYVehJku"
      }
    },
    {
      "cell_type": "code",
      "source": [
        "model.compile(loss='mean_squared_error',\n",
        "              optimizer=tf.keras.optimizers.Adam(0.1))"
      ],
      "metadata": {
        "id": "NtmBPoWMgR9f"
      },
      "execution_count": 39,
      "outputs": []
    },
    {
      "cell_type": "markdown",
      "source": [
        "These are used during training (`model.fit()`, below) to first calculate the loss at each point, and then improve it. In fact, the act of calculating the current loss of a model and then improving it is precisely what training is.\n",
        "\n",
        "During training, the optimizer function is used to calculate adjustments to the model's internal variables. The goal is to adjust the internal variables until the model (which is really a math function) mirrors the actual equation for converting Celsius to Fahrenheit.\n",
        "\n",
        "TensorFlow uses numerical analysis to perform this tuning, and all this complexity is hidden from you so we will not go into the details here. What is useful to know about these parameters are:\n",
        "\n",
        "The loss function ([mean squared error](https://en.wikipedia.org/wiki/Mean_squared_error)) and the optimizer ([Adam](https://machinelearningmastery.com/adam-optimization-algorithm-for-deep-learning/)) used here are standard for simple models like this one, but many others are available. It is not important to know how these specific functions work at this point.\n",
        "\n",
        "One part of the Optimizer you may need to think about when building your own models is the learning rate (`0.1` in the code above). This is the step size taken when adjusting values in the model. If the value is too small, it will take too many iterations to train the model. Too large, and accuracy goes down. Finding a good value often involves some trial and error, but the range is usually within 0.001 (default), and 0.1"
      ],
      "metadata": {
        "id": "zZsdllvlLOMc"
      }
    },
    {
      "cell_type": "markdown",
      "source": [
        "## Train the model\n",
        "\n",
        "Train the model by calling the `fit` method.\n",
        "\n",
        "During training, the model takes in Celsius values, performs a calculation using the current internal variables (called \"weights\") and outputs values which are meant to be the Fahrenheit equivalent. Since the weights are initially set randomly, the output will not be close to the correct value. The difference between the actual output and the desired output is calculated using the loss function, and the optimizer function directs how the weights should be adjusted.\n",
        "\n",
        "This cycle of calculate, compare, adjust is controlled by the `fit` method. The first argument is the inputs, the second argument is the desired outputs. The `epochs` argument specifies how many times this cycle should be run, and the `verbose` argument controls how much output the method produces."
      ],
      "metadata": {
        "id": "jb7I1y9nhPpl"
      }
    },
    {
      "cell_type": "code",
      "source": [
        "%%time\n",
        "history = model.fit(celsius_in, fahrenheit_out, epochs=500, verbose=False)\n",
        "print(\"Finished training the model\")"
      ],
      "metadata": {
        "colab": {
          "base_uri": "https://localhost:8080/"
        },
        "id": "_zGdZ4BFhTcF",
        "outputId": "4a1ffd3f-240a-42bd-c86b-93ce71fc79c1"
      },
      "execution_count": 40,
      "outputs": [
        {
          "output_type": "stream",
          "name": "stdout",
          "text": [
            "Finished training the model\n",
            "CPU times: user 1.86 s, sys: 66.2 ms, total: 1.92 s\n",
            "Wall time: 1.69 s\n"
          ]
        }
      ]
    },
    {
      "cell_type": "markdown",
      "source": [
        "## Display training statistics\n",
        "\n",
        "The `fit` method returns a history object. We can use this object to plot how the loss of our model goes down after each training epoch. A high loss means that the Fahrenheit degrees the model predicts is far from the corresponding value in `fahrenheit_a`.\n",
        "\n",
        "We'll use [Matplotlib](https://matplotlib.org/) to visualize this (you could use another tool). As you can see, our model improves very quickly at first, and then has a steady, slow improvement until it is very near \"perfect\" towards the end.\n"
      ],
      "metadata": {
        "id": "j4qBeuIfLiWe"
      }
    },
    {
      "cell_type": "code",
      "source": [
        "import matplotlib.pyplot as plt\n",
        "plt.xlabel('Epoch Number')\n",
        "plt.ylabel(\"Loss Magnitude\")\n",
        "plt.plot(history.history['loss'])"
      ],
      "metadata": {
        "id": "DHq-PeICLh3v",
        "outputId": "f4e79522-4513-468a-8c04-a48f22e41d75",
        "colab": {
          "base_uri": "https://localhost:8080/",
          "height": 296
        }
      },
      "execution_count": 41,
      "outputs": [
        {
          "output_type": "execute_result",
          "data": {
            "text/plain": [
              "[<matplotlib.lines.Line2D at 0x7ffaa3f2fb20>]"
            ]
          },
          "metadata": {},
          "execution_count": 41
        },
        {
          "output_type": "display_data",
          "data": {
            "text/plain": [
              "<Figure size 432x288 with 1 Axes>"
            ],
            "image/png": "[encoded data removed]"
          },
          "metadata": {
            "needs_background": "light"
          }
        }
      ]
    },
    {
      "cell_type": "markdown",
      "source": [
        "## Use the model to predict values"
      ],
      "metadata": {
        "id": "FGgi_j9Nhs02"
      }
    },
    {
      "cell_type": "code",
      "source": [
        "print(model.predict([100.0]))"
      ],
      "metadata": {
        "colab": {
          "base_uri": "https://localhost:8080/"
        },
        "id": "9KKVSzLOhUIW",
        "outputId": "faa49494-2f33-4a4d-9e01-da9c0ae41e59"
      },
      "execution_count": 42,
      "outputs": [
        {
          "output_type": "stream",
          "name": "stdout",
          "text": [
            "1/1 [==============================] - 0s 55ms/step\n",
            "[[211.54779]]\n"
          ]
        }
      ]
    },
    {
      "cell_type": "markdown",
      "source": [
        "#Actual Value"
      ],
      "metadata": {
        "id": "MkRkg5sxvhL0"
      }
    },
    {
      "cell_type": "code",
      "source": [
        "cel_to_far(100.0)"
      ],
      "metadata": {
        "colab": {
          "base_uri": "https://localhost:8080/"
        },
        "id": "wRiw9nF6vads",
        "outputId": "62b6c0db-033c-4997-df7d-eb1e07b4ce20"
      },
      "execution_count": 43,
      "outputs": [
        {
          "output_type": "execute_result",
          "data": {
            "text/plain": [
              "212.0"
            ]
          },
          "metadata": {},
          "execution_count": 43
        }
      ]
    },
    {
      "cell_type": "markdown",
      "source": [
        "## Looking at the layer weights and bias"
      ],
      "metadata": {
        "id": "Ra_QC_jYiBm9"
      }
    },
    {
      "cell_type": "code",
      "source": [
        "print(\"These are the layer variables, weight:\",l0.get_weights()[0],\", bias:\",l0.get_weights()[1])"
      ],
      "metadata": {
        "colab": {
          "base_uri": "https://localhost:8080/"
        },
        "id": "JKxICC43iCc2",
        "outputId": "220eb0ac-1f03-4cb5-ea1c-c651db44139d"
      },
      "execution_count": 46,
      "outputs": [
        {
          "output_type": "stream",
          "name": "stdout",
          "text": [
            "These are the layer variables, weight: [[1.8281387]] , bias: [28.733923]\n"
          ]
        }
      ]
    },
    {
      "cell_type": "code",
      "source": [
        "%%time\n",
        "l0 = tf.keras.layers.Dense(units=4, input_shape=[1])\n",
        "l1 = tf.keras.layers.Dense(units=4)\n",
        "l2 = tf.keras.layers.Dense(units=1)\n",
        "\n",
        "model = tf.keras.Sequential([l0, l1, l2])\n",
        "\n",
        "model.compile(loss='mean_squared_error', optimizer=tf.keras.optimizers.Adam(0.1))\n",
        "\n",
        "model.fit(celsius_in, fahrenheit_out, epochs=500, verbose=False)\n",
        "print(\"Finished training the model\")\n",
        "\n"
      ],
      "metadata": {
        "colab": {
          "base_uri": "https://localhost:8080/"
        },
        "id": "fT68DefUijww",
        "outputId": "ae23c532-8e86-4680-850a-ea257ef05370"
      },
      "execution_count": 47,
      "outputs": [
        {
          "output_type": "stream",
          "name": "stdout",
          "text": [
            "Finished training the model\n",
            "CPU times: user 2.27 s, sys: 52.5 ms, total: 2.32 s\n",
            "Wall time: 3.27 s\n"
          ]
        }
      ]
    },
    {
      "cell_type": "code",
      "source": [
        "print(model.predict([100.0]))"
      ],
      "metadata": {
        "colab": {
          "base_uri": "https://localhost:8080/"
        },
        "id": "xVmvDzJ9wptW",
        "outputId": "3dcae171-90aa-4a58-abd0-a6ed772cd3f0"
      },
      "execution_count": 48,
      "outputs": [
        {
          "output_type": "stream",
          "name": "stdout",
          "text": [
            "1/1 [==============================] - 0s 72ms/step\n",
            "[[212.00002]]\n"
          ]
        }
      ]
    },
    {
      "cell_type": "code",
      "source": [
        "cel_to_far(100.0)"
      ],
      "metadata": {
        "colab": {
          "base_uri": "https://localhost:8080/"
        },
        "id": "WBWO9Jzfw1TW",
        "outputId": "b69f8a72-f207-4057-898a-7083dbb306c0"
      },
      "execution_count": 49,
      "outputs": [
        {
          "output_type": "execute_result",
          "data": {
            "text/plain": [
              "212.0"
            ]
          },
          "metadata": {},
          "execution_count": 49
        }
      ]
    },
    {
      "cell_type": "code",
      "source": [
        "print(\"These are the l0 variables, weight:\",l0.get_weights()[0],\", bias:\",l0.get_weights()[1])\n",
        "print(\"These are the l1 variables, weight:\",l1.get_weights()[0],\", bias:\",l1.get_weights()[1])\n",
        "print(\"These are the l2 variables, weight:\",l2.get_weights()[0],\", bias:\",l2.get_weights()[1])"
      ],
      "metadata": {
        "colab": {
          "base_uri": "https://localhost:8080/"
        },
        "id": "OqGB7XsXwn7Y",
        "outputId": "785df6e0-aed3-4d12-87c2-1d5c1e0131c7"
      },
      "execution_count": 50,
      "outputs": [
        {
          "output_type": "stream",
          "name": "stdout",
          "text": [
            "These are the l0 variables, weight: [[ 0.24010617 -0.47436523  0.45734635  0.06321257]] , bias: [-1.1810449 -3.2894735  3.1475194 -0.8735243]\n",
            "These are the l1 variables, weight: [[-0.30717465  1.3259726  -0.13328125  0.63966006]\n",
            " [ 0.14031884  0.89733124  0.9323664  -0.29837048]\n",
            " [ 0.86262685 -0.44126588 -1.1733105  -0.9842013 ]\n",
            " [ 0.15947406  0.02838005  0.3394758  -0.5375022 ]] , bias: [ 2.6229043 -3.246997  -3.2595868 -2.7632785]\n",
            "These are the l2 variables, weight: [[ 0.6996231 ]\n",
            " [-1.0422436 ]\n",
            " [-1.1683972 ]\n",
            " [-0.73428774]] , bias: [3.203349]\n"
          ]
        }
      ]
    },
    {
      "cell_type": "markdown",
      "source": [
        "\n",
        "\n",
        "---\n",
        "\n",
        "---\n",
        "\n",
        "\n",
        "\n"
      ],
      "metadata": {
        "id": "5hzLraxJOzHR"
      }
    },
    {
      "cell_type": "code",
      "source": [
        "import random\n",
        "\n",
        "\n",
        "celsius_2 = []\n",
        "fahrenheit_2=[]\n",
        "\n",
        "for i in range(100):\n",
        "  c_scaled=  float(\"{:.2f}\".format(random.uniform(-10.5, 75.5)))\n",
        "  celsius_2.append(c_scaled)\n",
        "  f_scaled = float(\"{:.2f}\".format(cel_to_far(c_scaled)))\n",
        "  fahrenheit_2.append(f_scaled)\n"
      ],
      "metadata": {
        "id": "q-1UFsnripK6"
      },
      "execution_count": null,
      "outputs": []
    },
    {
      "cell_type": "code",
      "source": [
        "for i,c in enumerate(celsius_2):\n",
        "  print(c,\"degrees Celsius = \", fahrenheit_2[i],\"degrees Fahrenheit\")"
      ],
      "metadata": {
        "id": "OR-E8q85PcyJ",
        "outputId": "4e263eb8-f322-4a77-d734-676dceec1684",
        "colab": {
          "base_uri": "https://localhost:8080/"
        }
      },
      "execution_count": null,
      "outputs": [
        {
          "output_type": "stream",
          "name": "stdout",
          "text": [
            "32.81 degrees Celsius =  91.06 degrees Fahrenheit\n",
            "31.91 degrees Celsius =  89.44 degrees Fahrenheit\n",
            "71.84 degrees Celsius =  161.31 degrees Fahrenheit\n",
            "29.45 degrees Celsius =  85.01 degrees Fahrenheit\n",
            "5.17 degrees Celsius =  41.31 degrees Fahrenheit\n",
            "4.94 degrees Celsius =  40.89 degrees Fahrenheit\n",
            "39.81 degrees Celsius =  103.66 degrees Fahrenheit\n",
            "22.0 degrees Celsius =  71.6 degrees Fahrenheit\n",
            "-1.04 degrees Celsius =  30.13 degrees Fahrenheit\n",
            "14.44 degrees Celsius =  57.99 degrees Fahrenheit\n",
            "5.68 degrees Celsius =  42.22 degrees Fahrenheit\n",
            "14.62 degrees Celsius =  58.32 degrees Fahrenheit\n",
            "-5.5 degrees Celsius =  22.1 degrees Fahrenheit\n",
            "35.95 degrees Celsius =  96.71 degrees Fahrenheit\n",
            "-6.86 degrees Celsius =  19.65 degrees Fahrenheit\n",
            "7.89 degrees Celsius =  46.2 degrees Fahrenheit\n",
            "54.71 degrees Celsius =  130.48 degrees Fahrenheit\n",
            "36.32 degrees Celsius =  97.38 degrees Fahrenheit\n",
            "-9.58 degrees Celsius =  14.76 degrees Fahrenheit\n",
            "15.92 degrees Celsius =  60.66 degrees Fahrenheit\n",
            "50.15 degrees Celsius =  122.27 degrees Fahrenheit\n",
            "41.6 degrees Celsius =  106.88 degrees Fahrenheit\n",
            "-2.43 degrees Celsius =  27.63 degrees Fahrenheit\n",
            "23.71 degrees Celsius =  74.68 degrees Fahrenheit\n",
            "13.62 degrees Celsius =  56.52 degrees Fahrenheit\n",
            "66.27 degrees Celsius =  151.29 degrees Fahrenheit\n",
            "12.0 degrees Celsius =  53.6 degrees Fahrenheit\n",
            "42.43 degrees Celsius =  108.37 degrees Fahrenheit\n",
            "55.41 degrees Celsius =  131.74 degrees Fahrenheit\n",
            "1.97 degrees Celsius =  35.55 degrees Fahrenheit\n",
            "27.61 degrees Celsius =  81.7 degrees Fahrenheit\n",
            "15.28 degrees Celsius =  59.5 degrees Fahrenheit\n",
            "63.97 degrees Celsius =  147.15 degrees Fahrenheit\n",
            "8.78 degrees Celsius =  47.8 degrees Fahrenheit\n",
            "12.96 degrees Celsius =  55.33 degrees Fahrenheit\n",
            "53.67 degrees Celsius =  128.61 degrees Fahrenheit\n",
            "12.06 degrees Celsius =  53.71 degrees Fahrenheit\n",
            "72.84 degrees Celsius =  163.11 degrees Fahrenheit\n",
            "43.57 degrees Celsius =  110.43 degrees Fahrenheit\n",
            "72.33 degrees Celsius =  162.19 degrees Fahrenheit\n",
            "70.88 degrees Celsius =  159.58 degrees Fahrenheit\n",
            "22.01 degrees Celsius =  71.62 degrees Fahrenheit\n",
            "69.14 degrees Celsius =  156.45 degrees Fahrenheit\n",
            "40.11 degrees Celsius =  104.2 degrees Fahrenheit\n",
            "16.09 degrees Celsius =  60.96 degrees Fahrenheit\n",
            "1.45 degrees Celsius =  34.61 degrees Fahrenheit\n",
            "39.55 degrees Celsius =  103.19 degrees Fahrenheit\n",
            "75.49 degrees Celsius =  167.88 degrees Fahrenheit\n",
            "31.43 degrees Celsius =  88.57 degrees Fahrenheit\n",
            "23.94 degrees Celsius =  75.09 degrees Fahrenheit\n",
            "70.1 degrees Celsius =  158.18 degrees Fahrenheit\n",
            "53.2 degrees Celsius =  127.76 degrees Fahrenheit\n",
            "42.65 degrees Celsius =  108.77 degrees Fahrenheit\n",
            "68.0 degrees Celsius =  154.4 degrees Fahrenheit\n",
            "15.41 degrees Celsius =  59.74 degrees Fahrenheit\n",
            "54.48 degrees Celsius =  130.06 degrees Fahrenheit\n",
            "58.01 degrees Celsius =  136.42 degrees Fahrenheit\n",
            "44.88 degrees Celsius =  112.78 degrees Fahrenheit\n",
            "74.88 degrees Celsius =  166.78 degrees Fahrenheit\n",
            "56.44 degrees Celsius =  133.59 degrees Fahrenheit\n",
            "56.93 degrees Celsius =  134.47 degrees Fahrenheit\n",
            "28.06 degrees Celsius =  82.51 degrees Fahrenheit\n",
            "44.89 degrees Celsius =  112.8 degrees Fahrenheit\n",
            "54.87 degrees Celsius =  130.77 degrees Fahrenheit\n",
            "14.65 degrees Celsius =  58.37 degrees Fahrenheit\n",
            "-1.6 degrees Celsius =  29.12 degrees Fahrenheit\n",
            "28.08 degrees Celsius =  82.54 degrees Fahrenheit\n",
            "45.59 degrees Celsius =  114.06 degrees Fahrenheit\n",
            "-7.38 degrees Celsius =  18.72 degrees Fahrenheit\n",
            "9.22 degrees Celsius =  48.6 degrees Fahrenheit\n",
            "23.33 degrees Celsius =  73.99 degrees Fahrenheit\n",
            "-8.52 degrees Celsius =  16.66 degrees Fahrenheit\n",
            "15.03 degrees Celsius =  59.05 degrees Fahrenheit\n",
            "55.24 degrees Celsius =  131.43 degrees Fahrenheit\n",
            "36.97 degrees Celsius =  98.55 degrees Fahrenheit\n",
            "37.59 degrees Celsius =  99.66 degrees Fahrenheit\n",
            "-0.64 degrees Celsius =  30.85 degrees Fahrenheit\n",
            "7.8 degrees Celsius =  46.04 degrees Fahrenheit\n",
            "24.61 degrees Celsius =  76.3 degrees Fahrenheit\n",
            "-1.32 degrees Celsius =  29.62 degrees Fahrenheit\n",
            "50.89 degrees Celsius =  123.6 degrees Fahrenheit\n",
            "19.34 degrees Celsius =  66.81 degrees Fahrenheit\n",
            "21.59 degrees Celsius =  70.86 degrees Fahrenheit\n",
            "13.46 degrees Celsius =  56.23 degrees Fahrenheit\n",
            "43.02 degrees Celsius =  109.44 degrees Fahrenheit\n",
            "48.06 degrees Celsius =  118.51 degrees Fahrenheit\n",
            "22.08 degrees Celsius =  71.74 degrees Fahrenheit\n",
            "42.47 degrees Celsius =  108.45 degrees Fahrenheit\n",
            "53.59 degrees Celsius =  128.46 degrees Fahrenheit\n",
            "40.53 degrees Celsius =  104.95 degrees Fahrenheit\n",
            "-0.32 degrees Celsius =  31.42 degrees Fahrenheit\n",
            "43.65 degrees Celsius =  110.57 degrees Fahrenheit\n",
            "47.83 degrees Celsius =  118.09 degrees Fahrenheit\n",
            "60.84 degrees Celsius =  141.51 degrees Fahrenheit\n",
            "36.38 degrees Celsius =  97.48 degrees Fahrenheit\n",
            "8.78 degrees Celsius =  47.8 degrees Fahrenheit\n",
            "26.56 degrees Celsius =  79.81 degrees Fahrenheit\n",
            "34.18 degrees Celsius =  93.52 degrees Fahrenheit\n",
            "66.17 degrees Celsius =  151.11 degrees Fahrenheit\n",
            "31.99 degrees Celsius =  89.58 degrees Fahrenheit\n"
          ]
        }
      ]
    },
    {
      "cell_type": "code",
      "source": [
        "import numpy as np"
      ],
      "metadata": {
        "id": "eAFiTbbqPHIv"
      },
      "execution_count": null,
      "outputs": []
    },
    {
      "cell_type": "code",
      "source": [
        "celsius_in = np.array(celsius_2,  dtype=float)\n",
        "fahrenheit_out = np.array(fahrenheit_2,  dtype=float)"
      ],
      "metadata": {
        "id": "bCmU4gqgEBYv"
      },
      "execution_count": null,
      "outputs": []
    },
    {
      "cell_type": "code",
      "source": [
        "%%time\n",
        "import tensorflow as tf\n",
        "import logging\n",
        "logger = tf.get_logger()\n",
        "logger.setLevel(logging.ERROR)\n",
        "\n",
        "l0 = tf.keras.layers.Dense(units=1, input_shape=[1])\n",
        "\n",
        "model = tf.keras.Sequential([l0])\n",
        "\n",
        "model.compile(loss='mean_squared_error',\n",
        "              optimizer=tf.keras.optimizers.Adam(0.1))\n",
        "\n",
        "\n",
        "history = model.fit(celsius_in, fahrenheit_out, epochs=500, verbose=False)\n",
        "print(\"Finished training the model\")\n",
        "\n",
        "\n",
        "\n",
        "\n",
        "\n",
        "print(\"These are the layer variables: {}\".format(l0.get_weights()))"
      ],
      "metadata": {
        "colab": {
          "base_uri": "https://localhost:8080/"
        },
        "id": "gQYHm2drEgmQ",
        "outputId": "ad3438fa-a7cf-474d-d840-79ce2376de43"
      },
      "execution_count": null,
      "outputs": [
        {
          "output_type": "stream",
          "name": "stdout",
          "text": [
            "Finished training the model\n",
            "These are the layer variables: [array([[1.8001148]], dtype=float32), array([31.993238], dtype=float32)]\n",
            "CPU times: user 5.07 s, sys: 236 ms, total: 5.31 s\n",
            "Wall time: 5.81 s\n"
          ]
        }
      ]
    },
    {
      "cell_type": "code",
      "source": [
        "\n",
        "\n",
        "\n",
        "print(\"For 100.0 Celsius: \",model.predict([100.0]))"
      ],
      "metadata": {
        "colab": {
          "base_uri": "https://localhost:8080/"
        },
        "id": "iufTOVnfUgx4",
        "outputId": "093ffe56-da0e-46f5-8580-3e747150f3dd"
      },
      "execution_count": null,
      "outputs": [
        {
          "output_type": "stream",
          "name": "stdout",
          "text": [
            "1/1 [==============================] - 0s 104ms/step\n",
            "For 100.0 Celsius:  [[212.00471]]\n"
          ]
        }
      ]
    }
  ]
}