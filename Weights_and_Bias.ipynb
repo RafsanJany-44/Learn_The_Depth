{
  "nbformat": 4,
  "nbformat_minor": 0,
  "metadata": {
    "colab": {
      "provenance": [],
      "include_colab_link": true
    },
    "kernelspec": {
      "name": "python3",
      "display_name": "Python 3"
    },
    "language_info": {
      "name": "python"
    }
  },
  "cells": [
    {
      "cell_type": "markdown",
      "metadata": {
        "id": "view-in-github",
        "colab_type": "text"
      },
      "source": [
        "<a href=\"https://colab.research.google.com/github/RafsanJany-44/Learn_The_Depth/blob/main/Weights_and_Bias.ipynb\" target=\"_parent\"><img src=\"https://colab.research.google.com/assets/colab-badge.svg\" alt=\"Open In Colab\"/></a>"
      ]
    },
    {
      "cell_type": "markdown",
      "source": [
        "#Lets Make a Traditional Program"
      ],
      "metadata": {
        "id": "40MUeZSOZj4m"
      }
    },
    {
      "cell_type": "code",
      "source": [
        "celsius = [-40, -10,  0,  8, 15, 22,  38]"
      ],
      "metadata": {
        "id": "LoUCYX7uWi83"
      },
      "execution_count": 1,
      "outputs": []
    },
    {
      "cell_type": "code",
      "execution_count": 2,
      "metadata": {
        "id": "qUO8EWPSSEvs"
      },
      "outputs": [],
      "source": [
        "def cel_to_far(c):\n",
        "  f = c * (9/5) + 32\n",
        "  return f"
      ]
    },
    {
      "cell_type": "code",
      "source": [
        "\n",
        "fahrenheit = []\n",
        "for i in celsius:\n",
        "  fahrenheit.append(cel_to_far(i))\n",
        "\n",
        "print(fahrenheit)"
      ],
      "metadata": {
        "id": "QhuYshqxUyAC",
        "colab": {
          "base_uri": "https://localhost:8080/"
        },
        "outputId": "0a6dc8bb-f7df-4d74-d5ab-e7c74d834b87"
      },
      "execution_count": 5,
      "outputs": [
        {
          "output_type": "stream",
          "name": "stdout",
          "text": [
            "[-40.0, 14.0, 32.0, 46.4, 59.0, 71.6, 100.4]\n"
          ]
        }
      ]
    },
    {
      "cell_type": "code",
      "source": [
        "for i,c in enumerate(celsius):\n",
        "  print(c,\"degrees Celsius = \", fahrenheit[i],\"degrees Fahrenheit\")"
      ],
      "metadata": {
        "colab": {
          "base_uri": "https://localhost:8080/"
        },
        "id": "orhKwpNUdQtW",
        "outputId": "28df6f63-a61b-4a0e-bc0b-ee5e669450ae"
      },
      "execution_count": 6,
      "outputs": [
        {
          "output_type": "stream",
          "name": "stdout",
          "text": [
            "-40 degrees Celsius =  -40.0 degrees Fahrenheit\n",
            "-10 degrees Celsius =  14.0 degrees Fahrenheit\n",
            "0 degrees Celsius =  32.0 degrees Fahrenheit\n",
            "8 degrees Celsius =  46.4 degrees Fahrenheit\n",
            "15 degrees Celsius =  59.0 degrees Fahrenheit\n",
            "22 degrees Celsius =  71.6 degrees Fahrenheit\n",
            "38 degrees Celsius =  100.4 degrees Fahrenheit\n"
          ]
        }
      ]
    },
    {
      "cell_type": "markdown",
      "source": [
        "##Lets Do the Job\n",
        "\n",
        "So we have the input and the output. Our Algorithm or formula is f=c*(9/5)+32. Lets make a Nural Network which can detect the algorithm with our inputdata (<i>celsius</i>) and outputdata (<i>fahrenheit</i>).\n",
        "\n"
      ],
      "metadata": {
        "id": "QqLTOlrKck2m"
      }
    },
    {
      "cell_type": "code",
      "source": [
        "import numpy as np"
      ],
      "metadata": {
        "id": "d-DXkpKqdJtW"
      },
      "execution_count": 12,
      "outputs": []
    },
    {
      "cell_type": "markdown",
      "source": [
        "Make Numpy Dataset"
      ],
      "metadata": {
        "id": "jcidD_hGNfyy"
      }
    },
    {
      "cell_type": "code",
      "source": [
        "celsius_in = np.array(celsius,  dtype=float)\n",
        "fahrenheit_out = np.array(fahrenheit,  dtype=float)"
      ],
      "metadata": {
        "id": "no-HTR1cYNK4"
      },
      "execution_count": 13,
      "outputs": []
    },
    {
      "cell_type": "markdown",
      "source": [
        "## Create the model"
      ],
      "metadata": {
        "id": "lhJ5zOZhgCqu"
      }
    },
    {
      "cell_type": "code",
      "source": [
        "import tensorflow as tf\n",
        "#import logging\n",
        "#logger = tf.get_logger()\n",
        "#logger.setLevel(logging.ERROR)"
      ],
      "metadata": {
        "id": "Vvb82gL6g9wu"
      },
      "execution_count": 7,
      "outputs": []
    },
    {
      "cell_type": "markdown",
      "source": [
        "### Build a layer"
      ],
      "metadata": {
        "id": "A4wmxxGTgX3f"
      }
    },
    {
      "cell_type": "markdown",
      "source": [
        "We'll call the layer <font color=\"coral\">`l0`</font> and create it by instantiating <font color=\"coral\">`tf.keras.layers.Dense`</font> with the following configuration:\n",
        "\n",
        "*   <font color=\"coral\">`input_shape=[1]`</font> — This specifies that the input to this layer is a single value. That is, the shape is a one-dimensional array with one member. The single value is a floating point number, representing degrees Celsius.\n",
        "\n",
        "*    <font color=\"coral\">`units=1`</font> — This specifies the number of neurons in the layer. The number of neurons defines how many internal variables the layer has to try to learn how to solve the problem . Since this is the final layer, it is also the size of the model's output — a single float value representing degrees Fahrenheit. (In a multi-layered network, the size and shape of the layer would need to match the <font color=\"coral\">`input_shape`</font> of the next layer.)"
      ],
      "metadata": {
        "id": "13MI7XybHW2x"
      }
    },
    {
      "cell_type": "code",
      "source": [
        "l0 = tf.keras.layers.Dense(units=1, input_shape=[1])"
      ],
      "metadata": {
        "id": "AjbjSebwcgQZ"
      },
      "execution_count": 37,
      "outputs": []
    },
    {
      "cell_type": "markdown",
      "source": [
        "### Assemble layers into the model\n",
        "\n",
        "\n",
        "Once layers are defined, they need to be assembled into a model. The Sequential model definition takes a list of layers as an argument, specifying the calculation order from the input to the output.\n",
        "\n",
        "This model has just a single layer, l0."
      ],
      "metadata": {
        "id": "cahRNMY4ghNd"
      }
    },
    {
      "cell_type": "code",
      "source": [
        "model = tf.keras.Sequential([l0])\n",
        "\n",
        "#model = tf.keras.Sequential(\n",
        "#    tf.keras.layers.Dense(units=1, input_shape=[1])\n",
        "#)\"\"\""
      ],
      "metadata": {
        "id": "p3L4Cws-gPh2"
      },
      "execution_count": 38,
      "outputs": []
    },
    {
      "cell_type": "markdown",
      "source": [
        "## Compile the model, with loss and optimizer functions\n",
        "\n",
        "Before training, the model has to be compiled. When compiled for training, the model is given:\n",
        "\n",
        "- **Loss function** — A way of measuring how far off predictions are from the desired outcome. (The measured difference is called the \"loss\".)\n",
        "\n",
        "- **Optimizer function** — A way of adjusting internal values in order to reduce the loss.\n"
      ],
      "metadata": {
        "id": "Ss1eyYVehJku"
      }
    },
    {
      "cell_type": "code",
      "source": [
        "model.compile(loss='mean_squared_error',\n",
        "              optimizer=tf.keras.optimizers.Adam(0.1))"
      ],
      "metadata": {
        "id": "NtmBPoWMgR9f"
      },
      "execution_count": 39,
      "outputs": []
    },
    {
      "cell_type": "markdown",
      "source": [
        "These are used during training (`model.fit()`, below) to first calculate the loss at each point, and then improve it. In fact, the act of calculating the current loss of a model and then improving it is precisely what training is.\n",
        "\n",
        "During training, the optimizer function is used to calculate adjustments to the model's internal variables. The goal is to adjust the internal variables until the model (which is really a math function) mirrors the actual equation for converting Celsius to Fahrenheit.\n",
        "\n",
        "TensorFlow uses numerical analysis to perform this tuning, and all this complexity is hidden from you so we will not go into the details here. What is useful to know about these parameters are:\n",
        "\n",
        "The loss function ([mean squared error](https://en.wikipedia.org/wiki/Mean_squared_error)) and the optimizer ([Adam](https://machinelearningmastery.com/adam-optimization-algorithm-for-deep-learning/)) used here are standard for simple models like this one, but many others are available. It is not important to know how these specific functions work at this point.\n",
        "\n",
        "One part of the Optimizer you may need to think about when building your own models is the learning rate (`0.1` in the code above). This is the step size taken when adjusting values in the model. If the value is too small, it will take too many iterations to train the model. Too large, and accuracy goes down. Finding a good value often involves some trial and error, but the range is usually within 0.001 (default), and 0.1"
      ],
      "metadata": {
        "id": "zZsdllvlLOMc"
      }
    },
    {
      "cell_type": "markdown",
      "source": [
        "## Train the model\n",
        "\n",
        "Train the model by calling the `fit` method.\n",
        "\n",
        "During training, the model takes in Celsius values, performs a calculation using the current internal variables (called \"weights\") and outputs values which are meant to be the Fahrenheit equivalent. Since the weights are initially set randomly, the output will not be close to the correct value. The difference between the actual output and the desired output is calculated using the loss function, and the optimizer function directs how the weights should be adjusted.\n",
        "\n",
        "This cycle of calculate, compare, adjust is controlled by the `fit` method. The first argument is the inputs, the second argument is the desired outputs. The `epochs` argument specifies how many times this cycle should be run, and the `verbose` argument controls how much output the method produces."
      ],
      "metadata": {
        "id": "jb7I1y9nhPpl"
      }
    },
    {
      "cell_type": "code",
      "source": [
        "%%time\n",
        "history = model.fit(celsius_in, fahrenheit_out, epochs=500, verbose=False)\n",
        "print(\"Finished training the model\")"
      ],
      "metadata": {
        "colab": {
          "base_uri": "https://localhost:8080/"
        },
        "id": "_zGdZ4BFhTcF",
        "outputId": "4a1ffd3f-240a-42bd-c86b-93ce71fc79c1"
      },
      "execution_count": 40,
      "outputs": [
        {
          "output_type": "stream",
          "name": "stdout",
          "text": [
            "Finished training the model\n",
            "CPU times: user 1.86 s, sys: 66.2 ms, total: 1.92 s\n",
            "Wall time: 1.69 s\n"
          ]
        }
      ]
    },
    {
      "cell_type": "markdown",
      "source": [
        "## Display training statistics\n",
        "\n",
        "The `fit` method returns a history object. We can use this object to plot how the loss of our model goes down after each training epoch. A high loss means that the Fahrenheit degrees the model predicts is far from the corresponding value in `fahrenheit_a`.\n",
        "\n",
        "We'll use [Matplotlib](https://matplotlib.org/) to visualize this (you could use another tool). As you can see, our model improves very quickly at first, and then has a steady, slow improvement until it is very near \"perfect\" towards the end.\n"
      ],
      "metadata": {
        "id": "j4qBeuIfLiWe"
      }
    },
    {
      "cell_type": "code",
      "source": [
        "import matplotlib.pyplot as plt\n",
        "plt.xlabel('Epoch Number')\n",
        "plt.ylabel(\"Loss Magnitude\")\n",
        "plt.plot(history.history['loss'])"
      ],
      "metadata": {
        "id": "DHq-PeICLh3v",
        "outputId": "f4e79522-4513-468a-8c04-a48f22e41d75",
        "colab": {
          "base_uri": "https://localhost:8080/",
          "height": 296
        }
      },
      "execution_count": 41,
      "outputs": [
        {
          "output_type": "execute_result",
          "data": {
            "text/plain": [
              "[<matplotlib.lines.Line2D at 0x7ffaa3f2fb20>]"
            ]
          },
          "metadata": {},
          "execution_count": 41
        },
        {
          "output_type": "display_data",
          "data": {
            "text/plain": [
              "<Figure size 432x288 with 1 Axes>"
            ],
            "image/png": "[encoded data removed]"
          },
          "metadata": {
            "needs_background": "light"
          }
        }
      ]
    },
    {
      "cell_type": "markdown",
      "source": [
        "## Use the model to predict values"
      ],
      "metadata": {
        "id": "FGgi_j9Nhs02"
      }
    },
    {
      "cell_type": "code",
      "source": [
        "print(model.predict([100.0]))"
      ],
      "metadata": {
        "colab": {
          "base_uri": "https://localhost:8080/"
        },
        "id": "9KKVSzLOhUIW",
        "outputId": "faa49494-2f33-4a4d-9e01-da9c0ae41e59"
      },
      "execution_count": 42,
      "outputs": [
        {
          "output_type": "stream",
          "name": "stdout",
          "text": [
            "1/1 [==============================] - 0s 55ms/step\n",
            "[[211.54779]]\n"
          ]
        }
      ]
    },
    {
      "cell_type": "markdown",
      "source": [
        "#Actual Value"
      ],
      "metadata": {
        "id": "MkRkg5sxvhL0"
      }
    },
    {
      "cell_type": "code",
      "source": [
        "cel_to_far(100.0)"
      ],
      "metadata": {
        "colab": {
          "base_uri": "https://localhost:8080/"
        },
        "id": "wRiw9nF6vads",
        "outputId": "62b6c0db-033c-4997-df7d-eb1e07b4ce20"
      },
      "execution_count": 43,
      "outputs": [
        {
          "output_type": "execute_result",
          "data": {
            "text/plain": [
              "212.0"
            ]
          },
          "metadata": {},
          "execution_count": 43
        }
      ]
    },
    {
      "cell_type": "markdown",
      "source": [
        "## Looking at the layer weights and bias"
      ],
      "metadata": {
        "id": "Ra_QC_jYiBm9"
      }
    },
    {
      "cell_type": "code",
      "source": [
        "print(\"These are the layer variables, weight:\",l0.get_weights()[0],\", bias:\",l0.get_weights()[1])"
      ],
      "metadata": {
        "colab": {
          "base_uri": "https://localhost:8080/"
        },
        "id": "JKxICC43iCc2",
        "outputId": "220eb0ac-1f03-4cb5-ea1c-c651db44139d"
      },
      "execution_count": 46,
      "outputs": [
        {
          "output_type": "stream",
          "name": "stdout",
          "text": [
            "These are the layer variables, weight: [[1.8281387]] , bias: [28.733923]\n"
          ]
        }
      ]
    },
    {
      "cell_type": "markdown",
      "source": [
        "\n",
        "\n",
        "---\n",
        "\n",
        "---\n",
        "\n",
        "\n",
        "\n"
      ],
      "metadata": {
        "id": "5hzLraxJOzHR"
      }
    },
    {
      "cell_type": "code",
      "source": [
        "import random\n",
        "\n",
        "\n",
        "celsius_2 = []\n",
        "fahrenheit_2=[]\n",
        "\n",
        "for i in range(500):\n",
        "  c_scaled=  float(\"{:.2f}\".format(random.uniform(-10.5, 75)))\n",
        "  celsius_2.append(c_scaled)\n",
        "  f_scaled = float(\"{:.2f}\".format(cel_to_far(c_scaled)))\n",
        "  fahrenheit_2.append(f_scaled)\n"
      ],
      "metadata": {
        "id": "q-1UFsnripK6"
      },
      "execution_count": 68,
      "outputs": []
    },
    {
      "cell_type": "code",
      "source": [
        "for i,c in enumerate(celsius_2):\n",
        "  print(c,\"degrees Celsius = \", fahrenheit_2[i],\"degrees Fahrenheit\")"
      ],
      "metadata": {
        "id": "OR-E8q85PcyJ",
        "outputId": "bd4cc543-cf54-4ea1-b8fe-035bd4beaeee",
        "colab": {
          "base_uri": "https://localhost:8080/"
        }
      },
      "execution_count": 69,
      "outputs": [
        {
          "output_type": "stream",
          "name": "stdout",
          "text": [
            "11.7 degrees Celsius =  53.06 degrees Fahrenheit\n",
            "48.66 degrees Celsius =  119.59 degrees Fahrenheit\n",
            "53.7 degrees Celsius =  128.66 degrees Fahrenheit\n",
            "30.81 degrees Celsius =  87.46 degrees Fahrenheit\n",
            "8.45 degrees Celsius =  47.21 degrees Fahrenheit\n",
            "24.14 degrees Celsius =  75.45 degrees Fahrenheit\n",
            "61.54 degrees Celsius =  142.77 degrees Fahrenheit\n",
            "-9.96 degrees Celsius =  14.07 degrees Fahrenheit\n",
            "54.72 degrees Celsius =  130.5 degrees Fahrenheit\n",
            "65.66 degrees Celsius =  150.19 degrees Fahrenheit\n",
            "62.52 degrees Celsius =  144.54 degrees Fahrenheit\n",
            "45.39 degrees Celsius =  113.7 degrees Fahrenheit\n",
            "3.14 degrees Celsius =  37.65 degrees Fahrenheit\n",
            "66.25 degrees Celsius =  151.25 degrees Fahrenheit\n",
            "0.76 degrees Celsius =  33.37 degrees Fahrenheit\n",
            "63.41 degrees Celsius =  146.14 degrees Fahrenheit\n",
            "25.51 degrees Celsius =  77.92 degrees Fahrenheit\n",
            "2.93 degrees Celsius =  37.27 degrees Fahrenheit\n",
            "44.93 degrees Celsius =  112.87 degrees Fahrenheit\n",
            "-2.51 degrees Celsius =  27.48 degrees Fahrenheit\n",
            "66.69 degrees Celsius =  152.04 degrees Fahrenheit\n",
            "68.95 degrees Celsius =  156.11 degrees Fahrenheit\n",
            "67.15 degrees Celsius =  152.87 degrees Fahrenheit\n",
            "11.24 degrees Celsius =  52.23 degrees Fahrenheit\n",
            "39.16 degrees Celsius =  102.49 degrees Fahrenheit\n",
            "33.41 degrees Celsius =  92.14 degrees Fahrenheit\n",
            "45.74 degrees Celsius =  114.33 degrees Fahrenheit\n",
            "67.39 degrees Celsius =  153.3 degrees Fahrenheit\n",
            "55.41 degrees Celsius =  131.74 degrees Fahrenheit\n",
            "51.44 degrees Celsius =  124.59 degrees Fahrenheit\n",
            "6.26 degrees Celsius =  43.27 degrees Fahrenheit\n",
            "74.08 degrees Celsius =  165.34 degrees Fahrenheit\n",
            "36.98 degrees Celsius =  98.56 degrees Fahrenheit\n",
            "26.2 degrees Celsius =  79.16 degrees Fahrenheit\n",
            "39.85 degrees Celsius =  103.73 degrees Fahrenheit\n",
            "53.59 degrees Celsius =  128.46 degrees Fahrenheit\n",
            "-7.12 degrees Celsius =  19.18 degrees Fahrenheit\n",
            "28.25 degrees Celsius =  82.85 degrees Fahrenheit\n",
            "64.05 degrees Celsius =  147.29 degrees Fahrenheit\n",
            "-4.38 degrees Celsius =  24.12 degrees Fahrenheit\n",
            "61.96 degrees Celsius =  143.53 degrees Fahrenheit\n",
            "28.59 degrees Celsius =  83.46 degrees Fahrenheit\n",
            "10.76 degrees Celsius =  51.37 degrees Fahrenheit\n",
            "23.1 degrees Celsius =  73.58 degrees Fahrenheit\n",
            "26.75 degrees Celsius =  80.15 degrees Fahrenheit\n",
            "35.31 degrees Celsius =  95.56 degrees Fahrenheit\n",
            "3.28 degrees Celsius =  37.9 degrees Fahrenheit\n",
            "37.98 degrees Celsius =  100.36 degrees Fahrenheit\n",
            "55.37 degrees Celsius =  131.67 degrees Fahrenheit\n",
            "25.16 degrees Celsius =  77.29 degrees Fahrenheit\n",
            "31.41 degrees Celsius =  88.54 degrees Fahrenheit\n",
            "66.48 degrees Celsius =  151.66 degrees Fahrenheit\n",
            "21.95 degrees Celsius =  71.51 degrees Fahrenheit\n",
            "29.21 degrees Celsius =  84.58 degrees Fahrenheit\n",
            "58.79 degrees Celsius =  137.82 degrees Fahrenheit\n",
            "64.99 degrees Celsius =  148.98 degrees Fahrenheit\n",
            "-6.72 degrees Celsius =  19.9 degrees Fahrenheit\n",
            "39.84 degrees Celsius =  103.71 degrees Fahrenheit\n",
            "-7.93 degrees Celsius =  17.73 degrees Fahrenheit\n",
            "68.35 degrees Celsius =  155.03 degrees Fahrenheit\n",
            "34.66 degrees Celsius =  94.39 degrees Fahrenheit\n",
            "8.47 degrees Celsius =  47.25 degrees Fahrenheit\n",
            "4.84 degrees Celsius =  40.71 degrees Fahrenheit\n",
            "47.13 degrees Celsius =  116.83 degrees Fahrenheit\n",
            "-3.26 degrees Celsius =  26.13 degrees Fahrenheit\n",
            "44.63 degrees Celsius =  112.33 degrees Fahrenheit\n",
            "15.07 degrees Celsius =  59.13 degrees Fahrenheit\n",
            "29.72 degrees Celsius =  85.5 degrees Fahrenheit\n",
            "13.53 degrees Celsius =  56.35 degrees Fahrenheit\n",
            "1.43 degrees Celsius =  34.57 degrees Fahrenheit\n",
            "-1.79 degrees Celsius =  28.78 degrees Fahrenheit\n",
            "31.49 degrees Celsius =  88.68 degrees Fahrenheit\n",
            "63.08 degrees Celsius =  145.54 degrees Fahrenheit\n",
            "35.43 degrees Celsius =  95.77 degrees Fahrenheit\n",
            "-10.2 degrees Celsius =  13.64 degrees Fahrenheit\n",
            "24.32 degrees Celsius =  75.78 degrees Fahrenheit\n",
            "59.09 degrees Celsius =  138.36 degrees Fahrenheit\n",
            "9.22 degrees Celsius =  48.6 degrees Fahrenheit\n",
            "-10.3 degrees Celsius =  13.46 degrees Fahrenheit\n",
            "62.61 degrees Celsius =  144.7 degrees Fahrenheit\n",
            "21.59 degrees Celsius =  70.86 degrees Fahrenheit\n",
            "26.36 degrees Celsius =  79.45 degrees Fahrenheit\n",
            "-3.65 degrees Celsius =  25.43 degrees Fahrenheit\n",
            "68.84 degrees Celsius =  155.91 degrees Fahrenheit\n",
            "43.83 degrees Celsius =  110.89 degrees Fahrenheit\n",
            "44.61 degrees Celsius =  112.3 degrees Fahrenheit\n",
            "31.83 degrees Celsius =  89.29 degrees Fahrenheit\n",
            "0.9 degrees Celsius =  33.62 degrees Fahrenheit\n",
            "66.77 degrees Celsius =  152.19 degrees Fahrenheit\n",
            "20.71 degrees Celsius =  69.28 degrees Fahrenheit\n",
            "62.98 degrees Celsius =  145.36 degrees Fahrenheit\n",
            "43.4 degrees Celsius =  110.12 degrees Fahrenheit\n",
            "37.92 degrees Celsius =  100.26 degrees Fahrenheit\n",
            "18.11 degrees Celsius =  64.6 degrees Fahrenheit\n",
            "2.13 degrees Celsius =  35.83 degrees Fahrenheit\n",
            "64.64 degrees Celsius =  148.35 degrees Fahrenheit\n",
            "11.75 degrees Celsius =  53.15 degrees Fahrenheit\n",
            "-2.97 degrees Celsius =  26.65 degrees Fahrenheit\n",
            "22.52 degrees Celsius =  72.54 degrees Fahrenheit\n",
            "18.45 degrees Celsius =  65.21 degrees Fahrenheit\n",
            "5.11 degrees Celsius =  41.2 degrees Fahrenheit\n",
            "70.15 degrees Celsius =  158.27 degrees Fahrenheit\n",
            "39.02 degrees Celsius =  102.24 degrees Fahrenheit\n",
            "54.47 degrees Celsius =  130.05 degrees Fahrenheit\n",
            "74.68 degrees Celsius =  166.42 degrees Fahrenheit\n",
            "-0.96 degrees Celsius =  30.27 degrees Fahrenheit\n",
            "31.52 degrees Celsius =  88.74 degrees Fahrenheit\n",
            "34.53 degrees Celsius =  94.15 degrees Fahrenheit\n",
            "63.19 degrees Celsius =  145.74 degrees Fahrenheit\n",
            "68.24 degrees Celsius =  154.83 degrees Fahrenheit\n",
            "17.4 degrees Celsius =  63.32 degrees Fahrenheit\n",
            "-5.94 degrees Celsius =  21.31 degrees Fahrenheit\n",
            "60.75 degrees Celsius =  141.35 degrees Fahrenheit\n",
            "-4.38 degrees Celsius =  24.12 degrees Fahrenheit\n",
            "-10.21 degrees Celsius =  13.62 degrees Fahrenheit\n",
            "45.02 degrees Celsius =  113.04 degrees Fahrenheit\n",
            "14.62 degrees Celsius =  58.32 degrees Fahrenheit\n",
            "73.62 degrees Celsius =  164.52 degrees Fahrenheit\n",
            "-2.47 degrees Celsius =  27.55 degrees Fahrenheit\n",
            "53.76 degrees Celsius =  128.77 degrees Fahrenheit\n",
            "64.91 degrees Celsius =  148.84 degrees Fahrenheit\n",
            "58.53 degrees Celsius =  137.35 degrees Fahrenheit\n",
            "16.05 degrees Celsius =  60.89 degrees Fahrenheit\n",
            "0.01 degrees Celsius =  32.02 degrees Fahrenheit\n",
            "44.95 degrees Celsius =  112.91 degrees Fahrenheit\n",
            "44.97 degrees Celsius =  112.95 degrees Fahrenheit\n",
            "-6.8 degrees Celsius =  19.76 degrees Fahrenheit\n",
            "8.87 degrees Celsius =  47.97 degrees Fahrenheit\n",
            "11.03 degrees Celsius =  51.85 degrees Fahrenheit\n",
            "2.92 degrees Celsius =  37.26 degrees Fahrenheit\n",
            "60.41 degrees Celsius =  140.74 degrees Fahrenheit\n",
            "73.65 degrees Celsius =  164.57 degrees Fahrenheit\n",
            "40.48 degrees Celsius =  104.86 degrees Fahrenheit\n",
            "34.58 degrees Celsius =  94.24 degrees Fahrenheit\n",
            "9.02 degrees Celsius =  48.24 degrees Fahrenheit\n",
            "15.14 degrees Celsius =  59.25 degrees Fahrenheit\n",
            "28.06 degrees Celsius =  82.51 degrees Fahrenheit\n",
            "27.15 degrees Celsius =  80.87 degrees Fahrenheit\n",
            "39.36 degrees Celsius =  102.85 degrees Fahrenheit\n",
            "4.78 degrees Celsius =  40.6 degrees Fahrenheit\n",
            "9.99 degrees Celsius =  49.98 degrees Fahrenheit\n",
            "41.25 degrees Celsius =  106.25 degrees Fahrenheit\n",
            "-7.16 degrees Celsius =  19.11 degrees Fahrenheit\n",
            "53.86 degrees Celsius =  128.95 degrees Fahrenheit\n",
            "57.46 degrees Celsius =  135.43 degrees Fahrenheit\n",
            "31.16 degrees Celsius =  88.09 degrees Fahrenheit\n",
            "71.71 degrees Celsius =  161.08 degrees Fahrenheit\n",
            "-8.23 degrees Celsius =  17.19 degrees Fahrenheit\n",
            "45.73 degrees Celsius =  114.31 degrees Fahrenheit\n",
            "-7.54 degrees Celsius =  18.43 degrees Fahrenheit\n",
            "0.25 degrees Celsius =  32.45 degrees Fahrenheit\n",
            "73.96 degrees Celsius =  165.13 degrees Fahrenheit\n",
            "-5.99 degrees Celsius =  21.22 degrees Fahrenheit\n",
            "53.61 degrees Celsius =  128.5 degrees Fahrenheit\n",
            "47.63 degrees Celsius =  117.73 degrees Fahrenheit\n",
            "20.23 degrees Celsius =  68.41 degrees Fahrenheit\n",
            "18.79 degrees Celsius =  65.82 degrees Fahrenheit\n",
            "51.06 degrees Celsius =  123.91 degrees Fahrenheit\n",
            "10.55 degrees Celsius =  50.99 degrees Fahrenheit\n",
            "0.89 degrees Celsius =  33.6 degrees Fahrenheit\n",
            "69.47 degrees Celsius =  157.05 degrees Fahrenheit\n",
            "-3.87 degrees Celsius =  25.03 degrees Fahrenheit\n",
            "50.05 degrees Celsius =  122.09 degrees Fahrenheit\n",
            "72.02 degrees Celsius =  161.64 degrees Fahrenheit\n",
            "66.21 degrees Celsius =  151.18 degrees Fahrenheit\n",
            "19.7 degrees Celsius =  67.46 degrees Fahrenheit\n",
            "20.43 degrees Celsius =  68.77 degrees Fahrenheit\n",
            "47.7 degrees Celsius =  117.86 degrees Fahrenheit\n",
            "1.02 degrees Celsius =  33.84 degrees Fahrenheit\n",
            "37.49 degrees Celsius =  99.48 degrees Fahrenheit\n",
            "48.98 degrees Celsius =  120.16 degrees Fahrenheit\n",
            "70.49 degrees Celsius =  158.88 degrees Fahrenheit\n",
            "38.14 degrees Celsius =  100.65 degrees Fahrenheit\n",
            "46.65 degrees Celsius =  115.97 degrees Fahrenheit\n",
            "43.42 degrees Celsius =  110.16 degrees Fahrenheit\n",
            "2.16 degrees Celsius =  35.89 degrees Fahrenheit\n",
            "-10.45 degrees Celsius =  13.19 degrees Fahrenheit\n",
            "37.98 degrees Celsius =  100.36 degrees Fahrenheit\n",
            "-8.56 degrees Celsius =  16.59 degrees Fahrenheit\n",
            "15.84 degrees Celsius =  60.51 degrees Fahrenheit\n",
            "19.95 degrees Celsius =  67.91 degrees Fahrenheit\n",
            "60.99 degrees Celsius =  141.78 degrees Fahrenheit\n",
            "-6.17 degrees Celsius =  20.89 degrees Fahrenheit\n",
            "21.52 degrees Celsius =  70.74 degrees Fahrenheit\n",
            "18.26 degrees Celsius =  64.87 degrees Fahrenheit\n",
            "29.46 degrees Celsius =  85.03 degrees Fahrenheit\n",
            "34.99 degrees Celsius =  94.98 degrees Fahrenheit\n",
            "66.55 degrees Celsius =  151.79 degrees Fahrenheit\n",
            "40.19 degrees Celsius =  104.34 degrees Fahrenheit\n",
            "-1.6 degrees Celsius =  29.12 degrees Fahrenheit\n",
            "65.24 degrees Celsius =  149.43 degrees Fahrenheit\n",
            "52.05 degrees Celsius =  125.69 degrees Fahrenheit\n",
            "53.32 degrees Celsius =  127.98 degrees Fahrenheit\n",
            "71.55 degrees Celsius =  160.79 degrees Fahrenheit\n",
            "61.64 degrees Celsius =  142.95 degrees Fahrenheit\n",
            "45.64 degrees Celsius =  114.15 degrees Fahrenheit\n",
            "12.5 degrees Celsius =  54.5 degrees Fahrenheit\n",
            "69.58 degrees Celsius =  157.24 degrees Fahrenheit\n",
            "38.69 degrees Celsius =  101.64 degrees Fahrenheit\n",
            "15.25 degrees Celsius =  59.45 degrees Fahrenheit\n",
            "7.09 degrees Celsius =  44.76 degrees Fahrenheit\n",
            "36.82 degrees Celsius =  98.28 degrees Fahrenheit\n",
            "44.87 degrees Celsius =  112.77 degrees Fahrenheit\n",
            "41.98 degrees Celsius =  107.56 degrees Fahrenheit\n",
            "-0.22 degrees Celsius =  31.6 degrees Fahrenheit\n",
            "17.71 degrees Celsius =  63.88 degrees Fahrenheit\n",
            "5.61 degrees Celsius =  42.1 degrees Fahrenheit\n",
            "16.29 degrees Celsius =  61.32 degrees Fahrenheit\n",
            "69.95 degrees Celsius =  157.91 degrees Fahrenheit\n",
            "28.46 degrees Celsius =  83.23 degrees Fahrenheit\n",
            "42.7 degrees Celsius =  108.86 degrees Fahrenheit\n",
            "27.55 degrees Celsius =  81.59 degrees Fahrenheit\n",
            "-1.0 degrees Celsius =  30.2 degrees Fahrenheit\n",
            "68.94 degrees Celsius =  156.09 degrees Fahrenheit\n",
            "36.29 degrees Celsius =  97.32 degrees Fahrenheit\n",
            "67.58 degrees Celsius =  153.64 degrees Fahrenheit\n",
            "19.33 degrees Celsius =  66.79 degrees Fahrenheit\n",
            "11.99 degrees Celsius =  53.58 degrees Fahrenheit\n",
            "-8.07 degrees Celsius =  17.47 degrees Fahrenheit\n",
            "52.26 degrees Celsius =  126.07 degrees Fahrenheit\n",
            "20.35 degrees Celsius =  68.63 degrees Fahrenheit\n",
            "47.27 degrees Celsius =  117.09 degrees Fahrenheit\n",
            "29.27 degrees Celsius =  84.69 degrees Fahrenheit\n",
            "13.05 degrees Celsius =  55.49 degrees Fahrenheit\n",
            "7.8 degrees Celsius =  46.04 degrees Fahrenheit\n",
            "72.77 degrees Celsius =  162.99 degrees Fahrenheit\n",
            "32.2 degrees Celsius =  89.96 degrees Fahrenheit\n",
            "17.87 degrees Celsius =  64.17 degrees Fahrenheit\n",
            "55.88 degrees Celsius =  132.58 degrees Fahrenheit\n",
            "50.63 degrees Celsius =  123.13 degrees Fahrenheit\n",
            "2.38 degrees Celsius =  36.28 degrees Fahrenheit\n",
            "9.43 degrees Celsius =  48.97 degrees Fahrenheit\n",
            "50.58 degrees Celsius =  123.04 degrees Fahrenheit\n",
            "25.35 degrees Celsius =  77.63 degrees Fahrenheit\n",
            "72.31 degrees Celsius =  162.16 degrees Fahrenheit\n",
            "5.18 degrees Celsius =  41.32 degrees Fahrenheit\n",
            "34.82 degrees Celsius =  94.68 degrees Fahrenheit\n",
            "64.59 degrees Celsius =  148.26 degrees Fahrenheit\n",
            "21.61 degrees Celsius =  70.9 degrees Fahrenheit\n",
            "39.03 degrees Celsius =  102.25 degrees Fahrenheit\n",
            "24.0 degrees Celsius =  75.2 degrees Fahrenheit\n",
            "8.14 degrees Celsius =  46.65 degrees Fahrenheit\n",
            "45.17 degrees Celsius =  113.31 degrees Fahrenheit\n",
            "-3.91 degrees Celsius =  24.96 degrees Fahrenheit\n",
            "40.21 degrees Celsius =  104.38 degrees Fahrenheit\n",
            "-1.62 degrees Celsius =  29.08 degrees Fahrenheit\n",
            "4.3 degrees Celsius =  39.74 degrees Fahrenheit\n",
            "16.23 degrees Celsius =  61.21 degrees Fahrenheit\n",
            "17.37 degrees Celsius =  63.27 degrees Fahrenheit\n",
            "49.33 degrees Celsius =  120.79 degrees Fahrenheit\n",
            "13.56 degrees Celsius =  56.41 degrees Fahrenheit\n",
            "31.07 degrees Celsius =  87.93 degrees Fahrenheit\n",
            "-5.7 degrees Celsius =  21.74 degrees Fahrenheit\n",
            "-4.81 degrees Celsius =  23.34 degrees Fahrenheit\n",
            "48.41 degrees Celsius =  119.14 degrees Fahrenheit\n",
            "19.38 degrees Celsius =  66.88 degrees Fahrenheit\n",
            "34.14 degrees Celsius =  93.45 degrees Fahrenheit\n",
            "32.57 degrees Celsius =  90.63 degrees Fahrenheit\n",
            "52.47 degrees Celsius =  126.45 degrees Fahrenheit\n",
            "28.74 degrees Celsius =  83.73 degrees Fahrenheit\n",
            "65.39 degrees Celsius =  149.7 degrees Fahrenheit\n",
            "26.04 degrees Celsius =  78.87 degrees Fahrenheit\n",
            "27.8 degrees Celsius =  82.04 degrees Fahrenheit\n",
            "11.58 degrees Celsius =  52.84 degrees Fahrenheit\n",
            "6.13 degrees Celsius =  43.03 degrees Fahrenheit\n",
            "60.11 degrees Celsius =  140.2 degrees Fahrenheit\n",
            "64.23 degrees Celsius =  147.61 degrees Fahrenheit\n",
            "24.31 degrees Celsius =  75.76 degrees Fahrenheit\n",
            "62.38 degrees Celsius =  144.28 degrees Fahrenheit\n",
            "7.15 degrees Celsius =  44.87 degrees Fahrenheit\n",
            "11.2 degrees Celsius =  52.16 degrees Fahrenheit\n",
            "24.63 degrees Celsius =  76.33 degrees Fahrenheit\n",
            "41.46 degrees Celsius =  106.63 degrees Fahrenheit\n",
            "13.74 degrees Celsius =  56.73 degrees Fahrenheit\n",
            "-9.57 degrees Celsius =  14.77 degrees Fahrenheit\n",
            "4.78 degrees Celsius =  40.6 degrees Fahrenheit\n",
            "6.94 degrees Celsius =  44.49 degrees Fahrenheit\n",
            "40.6 degrees Celsius =  105.08 degrees Fahrenheit\n",
            "31.76 degrees Celsius =  89.17 degrees Fahrenheit\n",
            "22.34 degrees Celsius =  72.21 degrees Fahrenheit\n",
            "8.37 degrees Celsius =  47.07 degrees Fahrenheit\n",
            "62.58 degrees Celsius =  144.64 degrees Fahrenheit\n",
            "66.28 degrees Celsius =  151.3 degrees Fahrenheit\n",
            "31.65 degrees Celsius =  88.97 degrees Fahrenheit\n",
            "-2.53 degrees Celsius =  27.45 degrees Fahrenheit\n",
            "64.84 degrees Celsius =  148.71 degrees Fahrenheit\n",
            "59.71 degrees Celsius =  139.48 degrees Fahrenheit\n",
            "63.93 degrees Celsius =  147.07 degrees Fahrenheit\n",
            "58.93 degrees Celsius =  138.07 degrees Fahrenheit\n",
            "70.17 degrees Celsius =  158.31 degrees Fahrenheit\n",
            "0.28 degrees Celsius =  32.5 degrees Fahrenheit\n",
            "16.71 degrees Celsius =  62.08 degrees Fahrenheit\n",
            "74.19 degrees Celsius =  165.54 degrees Fahrenheit\n",
            "74.82 degrees Celsius =  166.68 degrees Fahrenheit\n",
            "21.57 degrees Celsius =  70.83 degrees Fahrenheit\n",
            "39.52 degrees Celsius =  103.14 degrees Fahrenheit\n",
            "56.96 degrees Celsius =  134.53 degrees Fahrenheit\n",
            "49.47 degrees Celsius =  121.05 degrees Fahrenheit\n",
            "6.87 degrees Celsius =  44.37 degrees Fahrenheit\n",
            "13.17 degrees Celsius =  55.71 degrees Fahrenheit\n",
            "1.98 degrees Celsius =  35.56 degrees Fahrenheit\n",
            "0.85 degrees Celsius =  33.53 degrees Fahrenheit\n",
            "-1.19 degrees Celsius =  29.86 degrees Fahrenheit\n",
            "-1.61 degrees Celsius =  29.1 degrees Fahrenheit\n",
            "1.34 degrees Celsius =  34.41 degrees Fahrenheit\n",
            "56.61 degrees Celsius =  133.9 degrees Fahrenheit\n",
            "13.54 degrees Celsius =  56.37 degrees Fahrenheit\n",
            "42.98 degrees Celsius =  109.36 degrees Fahrenheit\n",
            "53.83 degrees Celsius =  128.89 degrees Fahrenheit\n",
            "17.68 degrees Celsius =  63.82 degrees Fahrenheit\n",
            "19.6 degrees Celsius =  67.28 degrees Fahrenheit\n",
            "40.24 degrees Celsius =  104.43 degrees Fahrenheit\n",
            "14.31 degrees Celsius =  57.76 degrees Fahrenheit\n",
            "0.85 degrees Celsius =  33.53 degrees Fahrenheit\n",
            "-4.73 degrees Celsius =  23.49 degrees Fahrenheit\n",
            "53.67 degrees Celsius =  128.61 degrees Fahrenheit\n",
            "24.54 degrees Celsius =  76.17 degrees Fahrenheit\n",
            "64.85 degrees Celsius =  148.73 degrees Fahrenheit\n",
            "-2.24 degrees Celsius =  27.97 degrees Fahrenheit\n",
            "32.25 degrees Celsius =  90.05 degrees Fahrenheit\n",
            "32.08 degrees Celsius =  89.74 degrees Fahrenheit\n",
            "4.91 degrees Celsius =  40.84 degrees Fahrenheit\n",
            "34.81 degrees Celsius =  94.66 degrees Fahrenheit\n",
            "68.11 degrees Celsius =  154.6 degrees Fahrenheit\n",
            "45.26 degrees Celsius =  113.47 degrees Fahrenheit\n",
            "17.5 degrees Celsius =  63.5 degrees Fahrenheit\n",
            "57.45 degrees Celsius =  135.41 degrees Fahrenheit\n",
            "60.78 degrees Celsius =  141.4 degrees Fahrenheit\n",
            "5.51 degrees Celsius =  41.92 degrees Fahrenheit\n",
            "13.99 degrees Celsius =  57.18 degrees Fahrenheit\n",
            "-1.54 degrees Celsius =  29.23 degrees Fahrenheit\n",
            "46.99 degrees Celsius =  116.58 degrees Fahrenheit\n",
            "57.89 degrees Celsius =  136.2 degrees Fahrenheit\n",
            "8.69 degrees Celsius =  47.64 degrees Fahrenheit\n",
            "6.12 degrees Celsius =  43.02 degrees Fahrenheit\n",
            "74.85 degrees Celsius =  166.73 degrees Fahrenheit\n",
            "36.66 degrees Celsius =  97.99 degrees Fahrenheit\n",
            "30.93 degrees Celsius =  87.67 degrees Fahrenheit\n",
            "6.9 degrees Celsius =  44.42 degrees Fahrenheit\n",
            "-0.6 degrees Celsius =  30.92 degrees Fahrenheit\n",
            "42.04 degrees Celsius =  107.67 degrees Fahrenheit\n",
            "23.62 degrees Celsius =  74.52 degrees Fahrenheit\n",
            "50.71 degrees Celsius =  123.28 degrees Fahrenheit\n",
            "15.61 degrees Celsius =  60.1 degrees Fahrenheit\n",
            "46.73 degrees Celsius =  116.11 degrees Fahrenheit\n",
            "40.69 degrees Celsius =  105.24 degrees Fahrenheit\n",
            "-2.38 degrees Celsius =  27.72 degrees Fahrenheit\n",
            "69.03 degrees Celsius =  156.25 degrees Fahrenheit\n",
            "38.77 degrees Celsius =  101.79 degrees Fahrenheit\n",
            "72.44 degrees Celsius =  162.39 degrees Fahrenheit\n",
            "14.79 degrees Celsius =  58.62 degrees Fahrenheit\n",
            "51.6 degrees Celsius =  124.88 degrees Fahrenheit\n",
            "63.52 degrees Celsius =  146.34 degrees Fahrenheit\n",
            "19.85 degrees Celsius =  67.73 degrees Fahrenheit\n",
            "69.1 degrees Celsius =  156.38 degrees Fahrenheit\n",
            "-9.86 degrees Celsius =  14.25 degrees Fahrenheit\n",
            "54.38 degrees Celsius =  129.88 degrees Fahrenheit\n",
            "15.67 degrees Celsius =  60.21 degrees Fahrenheit\n",
            "66.73 degrees Celsius =  152.11 degrees Fahrenheit\n",
            "-1.05 degrees Celsius =  30.11 degrees Fahrenheit\n",
            "16.48 degrees Celsius =  61.66 degrees Fahrenheit\n",
            "56.22 degrees Celsius =  133.2 degrees Fahrenheit\n",
            "36.85 degrees Celsius =  98.33 degrees Fahrenheit\n",
            "66.38 degrees Celsius =  151.48 degrees Fahrenheit\n",
            "48.64 degrees Celsius =  119.55 degrees Fahrenheit\n",
            "64.1 degrees Celsius =  147.38 degrees Fahrenheit\n",
            "8.5 degrees Celsius =  47.3 degrees Fahrenheit\n",
            "20.32 degrees Celsius =  68.58 degrees Fahrenheit\n",
            "11.62 degrees Celsius =  52.92 degrees Fahrenheit\n",
            "38.89 degrees Celsius =  102.0 degrees Fahrenheit\n",
            "-10.43 degrees Celsius =  13.23 degrees Fahrenheit\n",
            "25.12 degrees Celsius =  77.22 degrees Fahrenheit\n",
            "72.39 degrees Celsius =  162.3 degrees Fahrenheit\n",
            "-2.58 degrees Celsius =  27.36 degrees Fahrenheit\n",
            "40.86 degrees Celsius =  105.55 degrees Fahrenheit\n",
            "-7.33 degrees Celsius =  18.81 degrees Fahrenheit\n",
            "48.01 degrees Celsius =  118.42 degrees Fahrenheit\n",
            "22.02 degrees Celsius =  71.64 degrees Fahrenheit\n",
            "67.05 degrees Celsius =  152.69 degrees Fahrenheit\n",
            "69.82 degrees Celsius =  157.68 degrees Fahrenheit\n",
            "-7.63 degrees Celsius =  18.27 degrees Fahrenheit\n",
            "28.06 degrees Celsius =  82.51 degrees Fahrenheit\n",
            "70.82 degrees Celsius =  159.48 degrees Fahrenheit\n",
            "12.47 degrees Celsius =  54.45 degrees Fahrenheit\n",
            "4.57 degrees Celsius =  40.23 degrees Fahrenheit\n",
            "66.39 degrees Celsius =  151.5 degrees Fahrenheit\n",
            "34.73 degrees Celsius =  94.51 degrees Fahrenheit\n",
            "34.97 degrees Celsius =  94.95 degrees Fahrenheit\n",
            "70.58 degrees Celsius =  159.04 degrees Fahrenheit\n",
            "1.16 degrees Celsius =  34.09 degrees Fahrenheit\n",
            "15.81 degrees Celsius =  60.46 degrees Fahrenheit\n",
            "-4.96 degrees Celsius =  23.07 degrees Fahrenheit\n",
            "10.33 degrees Celsius =  50.59 degrees Fahrenheit\n",
            "4.27 degrees Celsius =  39.69 degrees Fahrenheit\n",
            "46.54 degrees Celsius =  115.77 degrees Fahrenheit\n",
            "15.53 degrees Celsius =  59.95 degrees Fahrenheit\n",
            "74.63 degrees Celsius =  166.33 degrees Fahrenheit\n",
            "33.68 degrees Celsius =  92.62 degrees Fahrenheit\n",
            "25.9 degrees Celsius =  78.62 degrees Fahrenheit\n",
            "20.59 degrees Celsius =  69.06 degrees Fahrenheit\n",
            "28.79 degrees Celsius =  83.82 degrees Fahrenheit\n",
            "63.4 degrees Celsius =  146.12 degrees Fahrenheit\n",
            "27.55 degrees Celsius =  81.59 degrees Fahrenheit\n",
            "8.5 degrees Celsius =  47.3 degrees Fahrenheit\n",
            "-7.02 degrees Celsius =  19.36 degrees Fahrenheit\n",
            "23.48 degrees Celsius =  74.26 degrees Fahrenheit\n",
            "11.98 degrees Celsius =  53.56 degrees Fahrenheit\n",
            "28.97 degrees Celsius =  84.15 degrees Fahrenheit\n",
            "12.34 degrees Celsius =  54.21 degrees Fahrenheit\n",
            "50.17 degrees Celsius =  122.31 degrees Fahrenheit\n",
            "68.79 degrees Celsius =  155.82 degrees Fahrenheit\n",
            "7.0 degrees Celsius =  44.6 degrees Fahrenheit\n",
            "13.72 degrees Celsius =  56.7 degrees Fahrenheit\n",
            "33.31 degrees Celsius =  91.96 degrees Fahrenheit\n",
            "60.02 degrees Celsius =  140.04 degrees Fahrenheit\n",
            "6.24 degrees Celsius =  43.23 degrees Fahrenheit\n",
            "70.01 degrees Celsius =  158.02 degrees Fahrenheit\n",
            "53.75 degrees Celsius =  128.75 degrees Fahrenheit\n",
            "70.42 degrees Celsius =  158.76 degrees Fahrenheit\n",
            "25.68 degrees Celsius =  78.22 degrees Fahrenheit\n",
            "22.18 degrees Celsius =  71.92 degrees Fahrenheit\n",
            "59.21 degrees Celsius =  138.58 degrees Fahrenheit\n",
            "-9.42 degrees Celsius =  15.04 degrees Fahrenheit\n",
            "51.57 degrees Celsius =  124.83 degrees Fahrenheit\n",
            "56.44 degrees Celsius =  133.59 degrees Fahrenheit\n",
            "13.24 degrees Celsius =  55.83 degrees Fahrenheit\n",
            "37.79 degrees Celsius =  100.02 degrees Fahrenheit\n",
            "-7.84 degrees Celsius =  17.89 degrees Fahrenheit\n",
            "12.79 degrees Celsius =  55.02 degrees Fahrenheit\n",
            "47.06 degrees Celsius =  116.71 degrees Fahrenheit\n",
            "-4.52 degrees Celsius =  23.86 degrees Fahrenheit\n",
            "51.98 degrees Celsius =  125.56 degrees Fahrenheit\n",
            "6.26 degrees Celsius =  43.27 degrees Fahrenheit\n",
            "8.38 degrees Celsius =  47.08 degrees Fahrenheit\n",
            "68.12 degrees Celsius =  154.62 degrees Fahrenheit\n",
            "44.38 degrees Celsius =  111.88 degrees Fahrenheit\n",
            "65.11 degrees Celsius =  149.2 degrees Fahrenheit\n",
            "34.58 degrees Celsius =  94.24 degrees Fahrenheit\n",
            "-10.02 degrees Celsius =  13.96 degrees Fahrenheit\n",
            "72.57 degrees Celsius =  162.63 degrees Fahrenheit\n",
            "28.79 degrees Celsius =  83.82 degrees Fahrenheit\n",
            "28.1 degrees Celsius =  82.58 degrees Fahrenheit\n",
            "69.54 degrees Celsius =  157.17 degrees Fahrenheit\n",
            "36.06 degrees Celsius =  96.91 degrees Fahrenheit\n",
            "64.24 degrees Celsius =  147.63 degrees Fahrenheit\n",
            "16.22 degrees Celsius =  61.2 degrees Fahrenheit\n",
            "63.72 degrees Celsius =  146.7 degrees Fahrenheit\n",
            "30.21 degrees Celsius =  86.38 degrees Fahrenheit\n",
            "72.49 degrees Celsius =  162.48 degrees Fahrenheit\n",
            "-8.03 degrees Celsius =  17.55 degrees Fahrenheit\n",
            "41.96 degrees Celsius =  107.53 degrees Fahrenheit\n",
            "3.79 degrees Celsius =  38.82 degrees Fahrenheit\n",
            "28.73 degrees Celsius =  83.71 degrees Fahrenheit\n",
            "27.33 degrees Celsius =  81.19 degrees Fahrenheit\n",
            "30.44 degrees Celsius =  86.79 degrees Fahrenheit\n",
            "41.72 degrees Celsius =  107.1 degrees Fahrenheit\n",
            "37.21 degrees Celsius =  98.98 degrees Fahrenheit\n",
            "51.46 degrees Celsius =  124.63 degrees Fahrenheit\n",
            "71.28 degrees Celsius =  160.3 degrees Fahrenheit\n",
            "44.03 degrees Celsius =  111.25 degrees Fahrenheit\n",
            "47.7 degrees Celsius =  117.86 degrees Fahrenheit\n",
            "24.05 degrees Celsius =  75.29 degrees Fahrenheit\n",
            "21.84 degrees Celsius =  71.31 degrees Fahrenheit\n",
            "58.49 degrees Celsius =  137.28 degrees Fahrenheit\n",
            "10.13 degrees Celsius =  50.23 degrees Fahrenheit\n",
            "61.0 degrees Celsius =  141.8 degrees Fahrenheit\n",
            "18.55 degrees Celsius =  65.39 degrees Fahrenheit\n",
            "33.77 degrees Celsius =  92.79 degrees Fahrenheit\n",
            "0.84 degrees Celsius =  33.51 degrees Fahrenheit\n",
            "33.43 degrees Celsius =  92.17 degrees Fahrenheit\n",
            "7.23 degrees Celsius =  45.01 degrees Fahrenheit\n",
            "26.86 degrees Celsius =  80.35 degrees Fahrenheit\n",
            "51.42 degrees Celsius =  124.56 degrees Fahrenheit\n",
            "6.68 degrees Celsius =  44.02 degrees Fahrenheit\n",
            "74.81 degrees Celsius =  166.66 degrees Fahrenheit\n",
            "12.77 degrees Celsius =  54.99 degrees Fahrenheit\n",
            "34.46 degrees Celsius =  94.03 degrees Fahrenheit\n",
            "11.05 degrees Celsius =  51.89 degrees Fahrenheit\n",
            "-3.57 degrees Celsius =  25.57 degrees Fahrenheit\n",
            "64.58 degrees Celsius =  148.24 degrees Fahrenheit\n",
            "61.42 degrees Celsius =  142.56 degrees Fahrenheit\n",
            "68.26 degrees Celsius =  154.87 degrees Fahrenheit\n",
            "12.1 degrees Celsius =  53.78 degrees Fahrenheit\n",
            "12.85 degrees Celsius =  55.13 degrees Fahrenheit\n",
            "36.72 degrees Celsius =  98.1 degrees Fahrenheit\n",
            "33.93 degrees Celsius =  93.07 degrees Fahrenheit\n",
            "24.56 degrees Celsius =  76.21 degrees Fahrenheit\n",
            "27.37 degrees Celsius =  81.27 degrees Fahrenheit\n",
            "7.64 degrees Celsius =  45.75 degrees Fahrenheit\n",
            "71.29 degrees Celsius =  160.32 degrees Fahrenheit\n",
            "56.32 degrees Celsius =  133.38 degrees Fahrenheit\n",
            "47.78 degrees Celsius =  118.0 degrees Fahrenheit\n",
            "9.66 degrees Celsius =  49.39 degrees Fahrenheit\n",
            "-2.13 degrees Celsius =  28.17 degrees Fahrenheit\n",
            "40.66 degrees Celsius =  105.19 degrees Fahrenheit\n",
            "23.52 degrees Celsius =  74.34 degrees Fahrenheit\n",
            "61.5 degrees Celsius =  142.7 degrees Fahrenheit\n",
            "0.85 degrees Celsius =  33.53 degrees Fahrenheit\n",
            "67.6 degrees Celsius =  153.68 degrees Fahrenheit\n",
            "-6.31 degrees Celsius =  20.64 degrees Fahrenheit\n"
          ]
        }
      ]
    },
    {
      "cell_type": "code",
      "source": [
        "celsius_in = np.array(celsius_2,  dtype=float)\n",
        "fahrenheit_out = np.array(fahrenheit_2,  dtype=float)"
      ],
      "metadata": {
        "id": "bCmU4gqgEBYv"
      },
      "execution_count": 70,
      "outputs": []
    },
    {
      "cell_type": "code",
      "source": [
        "%%time\n",
        "\n",
        "\n",
        "\n",
        "l0 = tf.keras.layers.Dense(units=1, input_shape=[1])\n",
        "\n",
        "model = tf.keras.Sequential([l0])\n",
        "\n",
        "model.compile(loss='mean_squared_error',\n",
        "              optimizer=tf.keras.optimizers.Adam(0.1))\n",
        "\n",
        "\n",
        "history = model.fit(celsius_in, fahrenheit_out, epochs=500, verbose=False)\n",
        "print(\"Finished training the model\")\n",
        "\n",
        "\n",
        "print(\"These are the layer variables, weight:\",l0.get_weights()[0],\", bias:\",l0.get_weights()[1])"
      ],
      "metadata": {
        "colab": {
          "base_uri": "https://localhost:8080/"
        },
        "id": "gQYHm2drEgmQ",
        "outputId": "f5f6ccb0-cad8-4d6d-afb5-4935b325449c"
      },
      "execution_count": 71,
      "outputs": [
        {
          "output_type": "stream",
          "name": "stdout",
          "text": [
            "Finished training the model\n",
            "These are the layer variables, weight: [[1.8005284]] , bias: [32.001602]\n",
            "CPU times: user 12.1 s, sys: 669 ms, total: 12.8 s\n",
            "Wall time: 10.7 s\n"
          ]
        }
      ]
    },
    {
      "cell_type": "code",
      "source": [
        "print(\"For 100.0 Celsius: \",model.predict([100.0]))"
      ],
      "metadata": {
        "colab": {
          "base_uri": "https://localhost:8080/"
        },
        "id": "iufTOVnfUgx4",
        "outputId": "b3c0a6ed-bed7-4222-f8a9-f33646cabed6"
      },
      "execution_count": 72,
      "outputs": [
        {
          "output_type": "stream",
          "name": "stdout",
          "text": [
            "1/1 [==============================] - 0s 83ms/step\n",
            "For 100.0 Celsius:  [[212.05444]]\n"
          ]
        }
      ]
    },
    {
      "cell_type": "code",
      "source": [
        "cel_to_far(100.0)"
      ],
      "metadata": {
        "colab": {
          "base_uri": "https://localhost:8080/"
        },
        "id": "ktaitN-_0UPm",
        "outputId": "60690a8d-9c40-4569-c2e0-5b1f19975a14"
      },
      "execution_count": 73,
      "outputs": [
        {
          "output_type": "execute_result",
          "data": {
            "text/plain": [
              "212.0"
            ]
          },
          "metadata": {},
          "execution_count": 73
        }
      ]
    },
    {
      "cell_type": "markdown",
      "source": [
        "\n",
        "\n",
        "---\n",
        "\n",
        "\n",
        "\n",
        "---\n",
        "\n"
      ],
      "metadata": {
        "id": "G-zu0dpZ1Bix"
      }
    },
    {
      "cell_type": "code",
      "source": [
        "%%time\n",
        "l0 = tf.keras.layers.Dense(units=4, input_shape=[1])\n",
        "l1 = tf.keras.layers.Dense(units=4)\n",
        "l2 = tf.keras.layers.Dense(units=1)\n",
        "\n",
        "model = tf.keras.Sequential([l0, l1, l2])\n",
        "\n",
        "model.compile(loss='mean_squared_error', optimizer=tf.keras.optimizers.Adam(0.1))\n",
        "\n",
        "model.fit(celsius_in, fahrenheit_out, epochs=500, verbose=False)\n",
        "print(\"Finished training the model\")\n",
        "\n"
      ],
      "metadata": {
        "colab": {
          "base_uri": "https://localhost:8080/"
        },
        "id": "v2s2jqWz1CYO",
        "outputId": "1257e1b3-2eda-4a9a-c164-fc75e1ccbd93"
      },
      "execution_count": 78,
      "outputs": [
        {
          "output_type": "stream",
          "name": "stdout",
          "text": [
            "Finished training the model\n",
            "CPU times: user 13 s, sys: 752 ms, total: 13.8 s\n",
            "Wall time: 21.3 s\n"
          ]
        }
      ]
    },
    {
      "cell_type": "code",
      "source": [
        "print(model.predict([100.0]))"
      ],
      "metadata": {
        "colab": {
          "base_uri": "https://localhost:8080/"
        },
        "id": "5vfalaWF1HfT",
        "outputId": "ae7aa3a5-0906-4200-fb79-6870fc3372ba"
      },
      "execution_count": 79,
      "outputs": [
        {
          "output_type": "stream",
          "name": "stdout",
          "text": [
            "1/1 [==============================] - 0s 86ms/step\n",
            "[[211.98354]]\n"
          ]
        }
      ]
    },
    {
      "cell_type": "code",
      "source": [
        "cel_to_far(100.0)"
      ],
      "metadata": {
        "colab": {
          "base_uri": "https://localhost:8080/"
        },
        "id": "FvrVaqee1Jkb",
        "outputId": "38a704d7-5ef0-4643-f5e6-70ac326c33f0"
      },
      "execution_count": 80,
      "outputs": [
        {
          "output_type": "execute_result",
          "data": {
            "text/plain": [
              "212.0"
            ]
          },
          "metadata": {},
          "execution_count": 80
        }
      ]
    },
    {
      "cell_type": "code",
      "source": [
        "print(\"These are the l0 variables, weight:\",l0.get_weights()[0],\", bias:\",l0.get_weights()[1])"
      ],
      "metadata": {
        "colab": {
          "base_uri": "https://localhost:8080/"
        },
        "id": "yA-B6QE11KCW",
        "outputId": "836f2e14-40cc-4afa-d0be-f74c77785c65"
      },
      "execution_count": 83,
      "outputs": [
        {
          "output_type": "stream",
          "name": "stdout",
          "text": [
            "These are the l0 variables, weight: [[-0.70468706  0.26312506 -0.29506013 -0.04036593]] , bias: [-5.732731   5.51682    2.6405303 -6.0521836]\n"
          ]
        }
      ]
    },
    {
      "cell_type": "code",
      "source": [
        "print(\"These are the l1 variables, weight:\",l1.get_weights()[0],\", bias:\",l1.get_weights()[1])"
      ],
      "metadata": {
        "colab": {
          "base_uri": "https://localhost:8080/"
        },
        "id": "LX-tcAe01iA1",
        "outputId": "de9d2c4f-2fd3-429e-dd4b-2abe009d3288"
      },
      "execution_count": 84,
      "outputs": [
        {
          "output_type": "stream",
          "name": "stdout",
          "text": [
            "These are the l1 variables, weight: [[-0.7863478  -1.2415843  -0.7621713  -0.16364685]\n",
            " [ 1.7175612  -0.2360942   0.03547899  0.46868035]\n",
            " [-0.47344595 -0.21625951 -0.7995037  -0.81295997]\n",
            " [-0.67148477  0.00742646  0.6318878  -0.23829411]] , bias: [-1.7163306  8.336361  -5.1230664  5.596765 ]\n"
          ]
        }
      ]
    },
    {
      "cell_type": "code",
      "source": [
        "print(\"These are the l2 variables, weight:\",l2.get_weights()[0],\", bias:\",l2.get_weights()[1])"
      ],
      "metadata": {
        "colab": {
          "base_uri": "https://localhost:8080/"
        },
        "id": "mLTZmO_H1is8",
        "outputId": "a58cb669-48d4-4f5c-8901-84072afb57da"
      },
      "execution_count": 85,
      "outputs": [
        {
          "output_type": "stream",
          "name": "stdout",
          "text": [
            "These are the l2 variables, weight: [[0.6034647 ]\n",
            " [0.8293106 ]\n",
            " [0.22269538]\n",
            " [0.4031512 ]] , bias: [9.7255335]\n"
          ]
        }
      ]
    }
  ]
}