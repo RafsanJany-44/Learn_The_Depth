{
  "metadata": {
    "kernelspec": {
      "display_name": "Python 3",
      "name": "python3"
    },
    "language_info": {
      "name": "python",
      "version": "3.10.12",
      "mimetype": "text/x-python",
      "codemirror_mode": {
        "name": "ipython",
        "version": 3
      },
      "pygments_lexer": "ipython3",
      "nbconvert_exporter": "python",
      "file_extension": ".py"
    },
    "colab": {
      "provenance": [],
      "gpuType": "T4"
    },
    "accelerator": "GPU"
  },
  "nbformat_minor": 0,
  "nbformat": 4,
  "cells": [
    {
      "cell_type": "code",
      "source": [
        "import torch\n",
        "torch.cuda.is_available()"
      ],
      "metadata": {
        "execution": {
          "iopub.status.busy": "2024-01-02T11:39:48.881336Z",
          "iopub.execute_input": "2024-01-02T11:39:48.881729Z",
          "iopub.status.idle": "2024-01-02T11:39:51.526231Z",
          "shell.execute_reply.started": "2024-01-02T11:39:48.881699Z",
          "shell.execute_reply": "2024-01-02T11:39:51.525308Z"
        },
        "trusted": true,
        "colab": {
          "base_uri": "https://localhost:8080/"
        },
        "id": "WSRYK1Fj5vN3",
        "outputId": "ccd1731d-0062-47ba-a87e-ab0160ea29d9"
      },
      "execution_count": 3,
      "outputs": [
        {
          "output_type": "execute_result",
          "data": {
            "text/plain": [
              "True"
            ]
          },
          "metadata": {},
          "execution_count": 3
        }
      ]
    },
    {
      "cell_type": "code",
      "source": [
        "import torch\n",
        "\n",
        "# Check if GPU is available≠\n",
        "if torch.cuda.is_available():\n",
        "    # Get the number of available GPUs\n",
        "    num_gpus = torch.cuda.device_count()\n",
        "    print(f\"Number of available GPUs: {num_gpus}\")\n",
        "\n",
        "    # Get the name of each GPU\n",
        "    for i in range(num_gpus):\n",
        "        gpu_name = torch.cuda.get_device_name(i)\n",
        "        print(f\"GPU {i}: {gpu_name}\")\n",
        "\n",
        "    # Get the current GPU device\n",
        "    current_device = torch.cuda.current_device()\n",
        "    print(f\"Current GPU device: {current_device}\")\n",
        "\n",
        "    # Get GPU properties\n",
        "    gpu_properties = torch.cuda.get_device_properties(current_device)\n",
        "    print(f\"GPU Properties:\\n{gpu_properties}\")\n",
        "else:\n",
        "    print(\"No GPU available. Switching to CPU.\")"
      ],
      "metadata": {
        "execution": {
          "iopub.status.busy": "2024-01-02T11:39:51.527742Z",
          "iopub.execute_input": "2024-01-02T11:39:51.528146Z",
          "iopub.status.idle": "2024-01-02T11:39:51.551616Z",
          "shell.execute_reply.started": "2024-01-02T11:39:51.528114Z",
          "shell.execute_reply": "2024-01-02T11:39:51.550795Z"
        },
        "trusted": true,
        "colab": {
          "base_uri": "https://localhost:8080/"
        },
        "id": "DwTRQFxc5vN8",
        "outputId": "8edddae9-e8d3-42c6-c8b6-40e432ea61d3"
      },
      "execution_count": 4,
      "outputs": [
        {
          "output_type": "stream",
          "name": "stdout",
          "text": [
            "Number of available GPUs: 1\n",
            "GPU 0: Tesla T4\n",
            "Current GPU device: 0\n",
            "GPU Properties:\n",
            "_CudaDeviceProperties(name='Tesla T4', major=7, minor=5, total_memory=15102MB, multi_processor_count=40)\n"
          ]
        }
      ]
    },
    {
      "cell_type": "code",
      "source": [
        "import torch\n",
        "import numpy as np"
      ],
      "metadata": {
        "execution": {
          "iopub.status.busy": "2024-01-02T11:39:51.552767Z",
          "iopub.execute_input": "2024-01-02T11:39:51.553284Z",
          "iopub.status.idle": "2024-01-02T11:39:51.557340Z",
          "shell.execute_reply.started": "2024-01-02T11:39:51.553252Z",
          "shell.execute_reply": "2024-01-02T11:39:51.556513Z"
        },
        "trusted": true,
        "id": "tvd6ICxx5vN9"
      },
      "execution_count": 5,
      "outputs": []
    },
    {
      "cell_type": "code",
      "source": [],
      "metadata": {
        "id": "alqtT8KO5vN-"
      },
      "execution_count": 5,
      "outputs": []
    },
    {
      "cell_type": "markdown",
      "source": [
        "# Initializing a Tensor"
      ],
      "metadata": {
        "id": "gRV6SgS25vN_"
      }
    },
    {
      "cell_type": "markdown",
      "source": [
        "## Directly from data"
      ],
      "metadata": {
        "id": "V5tgOn6j5vOA"
      }
    },
    {
      "cell_type": "code",
      "source": [
        "data = [[1,2],[3,4]]\n",
        "\n",
        "x_data = torch.tensor(data)\n",
        "print(type(data))\n",
        "print(type(x_data))\n",
        "x_data.device"
      ],
      "metadata": {
        "execution": {
          "iopub.status.busy": "2024-01-02T11:39:51.559581Z",
          "iopub.execute_input": "2024-01-02T11:39:51.559953Z",
          "iopub.status.idle": "2024-01-02T11:39:51.581150Z",
          "shell.execute_reply.started": "2024-01-02T11:39:51.559928Z",
          "shell.execute_reply": "2024-01-02T11:39:51.580340Z"
        },
        "trusted": true,
        "colab": {
          "base_uri": "https://localhost:8080/"
        },
        "id": "auG4ioZi5vOB",
        "outputId": "dad112b6-fb89-43b7-a36f-3d22ba0f3279"
      },
      "execution_count": 6,
      "outputs": [
        {
          "output_type": "stream",
          "name": "stdout",
          "text": [
            "<class 'list'>\n",
            "<class 'torch.Tensor'>\n"
          ]
        },
        {
          "output_type": "execute_result",
          "data": {
            "text/plain": [
              "device(type='cpu')"
            ]
          },
          "metadata": {},
          "execution_count": 6
        }
      ]
    },
    {
      "cell_type": "code",
      "source": [
        "data = [[1,2],[3,4]]\n",
        "\n",
        "x_data = torch.tensor(data,device = 'cuda')\n",
        "print(type(data))\n",
        "print(type(x_data))\n",
        "x_data.device"
      ],
      "metadata": {
        "execution": {
          "iopub.status.busy": "2024-01-02T11:39:51.582215Z",
          "iopub.execute_input": "2024-01-02T11:39:51.582532Z",
          "iopub.status.idle": "2024-01-02T11:39:54.284864Z",
          "shell.execute_reply.started": "2024-01-02T11:39:51.582500Z",
          "shell.execute_reply": "2024-01-02T11:39:54.283963Z"
        },
        "trusted": true,
        "colab": {
          "base_uri": "https://localhost:8080/"
        },
        "id": "R4tz7AxL5vOC",
        "outputId": "b03dcf43-9b06-45b7-b90f-d8b5cdc1584a"
      },
      "execution_count": 7,
      "outputs": [
        {
          "output_type": "stream",
          "name": "stdout",
          "text": [
            "<class 'list'>\n",
            "<class 'torch.Tensor'>\n"
          ]
        },
        {
          "output_type": "execute_result",
          "data": {
            "text/plain": [
              "device(type='cuda', index=0)"
            ]
          },
          "metadata": {},
          "execution_count": 7
        }
      ]
    },
    {
      "cell_type": "code",
      "source": [
        "torch.rand(3,3)"
      ],
      "metadata": {
        "execution": {
          "iopub.status.busy": "2024-01-02T11:39:54.285901Z",
          "iopub.execute_input": "2024-01-02T11:39:54.286205Z",
          "iopub.status.idle": "2024-01-02T11:39:54.344877Z",
          "shell.execute_reply.started": "2024-01-02T11:39:54.286179Z",
          "shell.execute_reply": "2024-01-02T11:39:54.344029Z"
        },
        "trusted": true,
        "colab": {
          "base_uri": "https://localhost:8080/"
        },
        "id": "l7O1Gk-E5vOE",
        "outputId": "8e535bce-2790-47b4-828c-d01022d825dd"
      },
      "execution_count": 8,
      "outputs": [
        {
          "output_type": "execute_result",
          "data": {
            "text/plain": [
              "tensor([[0.6324, 0.6792, 0.3558],\n",
              "        [0.1605, 0.1724, 0.4498],\n",
              "        [0.8054, 0.9775, 0.0201]])"
            ]
          },
          "metadata": {},
          "execution_count": 8
        }
      ]
    },
    {
      "cell_type": "markdown",
      "source": [
        "# Basic Tensor operation"
      ],
      "metadata": {
        "execution": {
          "iopub.status.busy": "2024-01-02T09:18:25.905547Z",
          "iopub.execute_input": "2024-01-02T09:18:25.906244Z",
          "iopub.status.idle": "2024-01-02T09:18:25.910351Z",
          "shell.execute_reply.started": "2024-01-02T09:18:25.906209Z",
          "shell.execute_reply": "2024-01-02T09:18:25.909341Z"
        },
        "id": "YK0iUkT55vOE"
      }
    },
    {
      "cell_type": "code",
      "source": [
        "device = 'cpu'\n",
        "\n",
        "if torch.cuda.is_available():\n",
        "    device = 'cuda'\n",
        "device"
      ],
      "metadata": {
        "execution": {
          "iopub.status.busy": "2024-01-02T11:39:54.345981Z",
          "iopub.execute_input": "2024-01-02T11:39:54.346336Z",
          "iopub.status.idle": "2024-01-02T11:39:54.352970Z",
          "shell.execute_reply.started": "2024-01-02T11:39:54.346304Z",
          "shell.execute_reply": "2024-01-02T11:39:54.351993Z"
        },
        "trusted": true,
        "colab": {
          "base_uri": "https://localhost:8080/",
          "height": 36
        },
        "id": "ZMsQqCCY5vOF",
        "outputId": "7406307b-ef79-4ab3-e25d-38a6e099a729"
      },
      "execution_count": 9,
      "outputs": [
        {
          "output_type": "execute_result",
          "data": {
            "text/plain": [
              "'cuda'"
            ],
            "application/vnd.google.colaboratory.intrinsic+json": {
              "type": "string"
            }
          },
          "metadata": {},
          "execution_count": 9
        }
      ]
    },
    {
      "cell_type": "code",
      "source": [
        "a = torch.randn(5,7)  # creating in cpu\n",
        "\n",
        "a = a.to(device) # transfering to gpu\n",
        "print(a.device)"
      ],
      "metadata": {
        "execution": {
          "iopub.status.busy": "2024-01-02T11:39:54.354112Z",
          "iopub.execute_input": "2024-01-02T11:39:54.354380Z",
          "iopub.status.idle": "2024-01-02T11:39:54.363545Z",
          "shell.execute_reply.started": "2024-01-02T11:39:54.354358Z",
          "shell.execute_reply": "2024-01-02T11:39:54.362616Z"
        },
        "trusted": true,
        "colab": {
          "base_uri": "https://localhost:8080/"
        },
        "id": "DVc2J0205vOG",
        "outputId": "bf677602-0575-48d4-8049-9de8a187373c"
      },
      "execution_count": 10,
      "outputs": [
        {
          "output_type": "stream",
          "name": "stdout",
          "text": [
            "cuda:0\n"
          ]
        }
      ]
    },
    {
      "cell_type": "markdown",
      "source": [
        "# Checking How GPU is Faster Then CPU"
      ],
      "metadata": {
        "id": "QoMCsufx5vOG"
      }
    },
    {
      "cell_type": "code",
      "source": [
        "setup = 'import torch'\n",
        "\n",
        "gpu_code = '''\n",
        "a1 = torch.randn(1000,1000,device='cuda')\n",
        "a2 = torch.randn(1000,1000,device='cuda')\n",
        "a = a1 @ a2\n",
        "'''\n",
        "\n",
        "\n",
        "cpu_code = '''\n",
        "b1 = torch.randn(1000,1000,device='cpu')\n",
        "b2 = torch.randn(1000,1000,device='cpu')\n",
        "b = b1 @ b2\n",
        "'''"
      ],
      "metadata": {
        "execution": {
          "iopub.status.busy": "2024-01-02T11:42:43.748598Z",
          "iopub.execute_input": "2024-01-02T11:42:43.749000Z",
          "iopub.status.idle": "2024-01-02T11:42:43.753828Z",
          "shell.execute_reply.started": "2024-01-02T11:42:43.748969Z",
          "shell.execute_reply": "2024-01-02T11:42:43.753034Z"
        },
        "trusted": true,
        "id": "81xAxknN5vOG"
      },
      "execution_count": 11,
      "outputs": []
    },
    {
      "cell_type": "code",
      "source": [
        "import timeit\n",
        "\n",
        "t_gpu = timeit.timeit(setup =setup, stmt = gpu_code,number = 1000)\n",
        "\n",
        "t_cpu = timeit.timeit(setup =setup, stmt = cpu_code,number = 1000)\n",
        "\n",
        "\n",
        "print(t_gpu)\n",
        "print(t_cpu)\n",
        "print(\"CPU is slower about:\",round(((t_cpu-t_gpu)*100)/t_cpu,2),\"%\")"
      ],
      "metadata": {
        "execution": {
          "iopub.status.busy": "2024-01-02T11:45:12.080575Z",
          "iopub.execute_input": "2024-01-02T11:45:12.081451Z",
          "iopub.status.idle": "2024-01-02T11:45:34.073643Z",
          "shell.execute_reply.started": "2024-01-02T11:45:12.081416Z",
          "shell.execute_reply": "2024-01-02T11:45:34.072668Z"
        },
        "trusted": true,
        "colab": {
          "base_uri": "https://localhost:8080/"
        },
        "id": "yOSBZB025vOH",
        "outputId": "c0ed39f3-43e0-49ef-a948-09dec36e89fb"
      },
      "execution_count": 20,
      "outputs": [
        {
          "output_type": "stream",
          "name": "stdout",
          "text": [
            "0.5307453909999822\n",
            "39.13006384199997\n",
            "CPU is slower about: 98.64 %\n"
          ]
        }
      ]
    },
    {
      "cell_type": "markdown",
      "source": [
        "# Neural Network module"
      ],
      "metadata": {
        "id": "G-sQpdwR5vOH"
      }
    },
    {
      "cell_type": "code",
      "source": [
        "from torch import nn\n",
        "import matplotlib.pyplot as plt"
      ],
      "metadata": {
        "execution": {
          "iopub.status.busy": "2024-01-02T11:49:24.179625Z",
          "iopub.execute_input": "2024-01-02T11:49:24.180174Z",
          "iopub.status.idle": "2024-01-02T11:49:24.184719Z",
          "shell.execute_reply.started": "2024-01-02T11:49:24.180129Z",
          "shell.execute_reply": "2024-01-02T11:49:24.183670Z"
        },
        "trusted": true,
        "id": "XJ1sbHUp5vOH"
      },
      "execution_count": 13,
      "outputs": []
    },
    {
      "cell_type": "code",
      "source": [
        "ff = nn.Linear(10,10)\n",
        "ff.state_dict()"
      ],
      "metadata": {
        "execution": {
          "iopub.status.busy": "2024-01-02T11:48:05.407661Z",
          "iopub.execute_input": "2024-01-02T11:48:05.407995Z",
          "iopub.status.idle": "2024-01-02T11:48:05.418744Z",
          "shell.execute_reply.started": "2024-01-02T11:48:05.407968Z",
          "shell.execute_reply": "2024-01-02T11:48:05.417776Z"
        },
        "trusted": true,
        "colab": {
          "base_uri": "https://localhost:8080/"
        },
        "id": "be-tuh0C5vOH",
        "outputId": "ef69540d-b654-4bb4-e241-c72661b903d4"
      },
      "execution_count": 14,
      "outputs": [
        {
          "output_type": "execute_result",
          "data": {
            "text/plain": [
              "OrderedDict([('weight',\n",
              "              tensor([[-0.1544,  0.1086, -0.2854,  0.2662, -0.2682, -0.2133, -0.1439, -0.2867,\n",
              "                        0.0511, -0.2257],\n",
              "                      [ 0.1331,  0.0077,  0.0038, -0.0634, -0.1746,  0.0361, -0.1099, -0.2278,\n",
              "                       -0.0291,  0.1093],\n",
              "                      [-0.0985, -0.0598, -0.1603, -0.2533,  0.1426, -0.1841,  0.0999,  0.2878,\n",
              "                       -0.0728, -0.1485],\n",
              "                      [ 0.0350, -0.1133, -0.2442,  0.1255, -0.0417, -0.0108, -0.0892, -0.0974,\n",
              "                        0.2330,  0.1644],\n",
              "                      [-0.0525,  0.0528,  0.0156,  0.0215,  0.0003,  0.0735, -0.2245,  0.1789,\n",
              "                       -0.2731,  0.0475],\n",
              "                      [ 0.1187, -0.2991, -0.2679,  0.1921, -0.1908,  0.3042,  0.1290,  0.2004,\n",
              "                        0.1025,  0.2710],\n",
              "                      [-0.1549,  0.0511,  0.1430, -0.1481,  0.0596, -0.1766, -0.0260,  0.1261,\n",
              "                       -0.0549, -0.0409],\n",
              "                      [ 0.0178, -0.0825, -0.3088, -0.2878,  0.0997, -0.2792,  0.1244,  0.3159,\n",
              "                       -0.2849,  0.3080],\n",
              "                      [-0.1084,  0.0913, -0.0525, -0.2393, -0.0301, -0.0283,  0.2969,  0.0332,\n",
              "                        0.2703, -0.2356],\n",
              "                      [-0.0009,  0.0490,  0.1768, -0.0864,  0.1608,  0.2274, -0.0018, -0.0041,\n",
              "                        0.2899,  0.0537]])),\n",
              "             ('bias',\n",
              "              tensor([ 0.0024, -0.1601,  0.0357, -0.0838, -0.1321,  0.1575,  0.0496, -0.1036,\n",
              "                      -0.0024, -0.0438]))])"
            ]
          },
          "metadata": {},
          "execution_count": 14
        }
      ]
    },
    {
      "cell_type": "code",
      "source": [
        "plt.hist(ff.state_dict()[\"weight\"])"
      ],
      "metadata": {
        "execution": {
          "iopub.status.busy": "2024-01-02T11:50:25.674921Z",
          "iopub.execute_input": "2024-01-02T11:50:25.675303Z",
          "iopub.status.idle": "2024-01-02T11:50:26.107122Z",
          "shell.execute_reply.started": "2024-01-02T11:50:25.675270Z",
          "shell.execute_reply": "2024-01-02T11:50:26.106212Z"
        },
        "trusted": true,
        "colab": {
          "base_uri": "https://localhost:8080/",
          "height": 673
        },
        "id": "HFAL4s015vOI",
        "outputId": "dafe9a53-c407-4ec4-9e48-d194580a175e"
      },
      "execution_count": 15,
      "outputs": [
        {
          "output_type": "execute_result",
          "data": {
            "text/plain": [
              "(array([[3., 2., 2., 0., 0., 1., 1., 0., 0., 1.],\n",
              "        [0., 1., 1., 2., 1., 3., 1., 1., 0., 0.],\n",
              "        [1., 1., 2., 3., 0., 0., 1., 1., 0., 1.],\n",
              "        [0., 1., 0., 3., 2., 1., 1., 1., 1., 0.],\n",
              "        [1., 1., 0., 0., 2., 4., 1., 1., 0., 0.],\n",
              "        [2., 1., 0., 0., 0., 0., 2., 1., 2., 2.],\n",
              "        [0., 0., 3., 0., 3., 2., 1., 1., 0., 0.],\n",
              "        [4., 0., 0., 1., 0., 1., 2., 0., 0., 2.],\n",
              "        [0., 2., 0., 1., 3., 1., 1., 0., 0., 2.],\n",
              "        [0., 0., 0., 1., 3., 2., 0., 2., 1., 1.]]),\n",
              " array([-0.30875802, -0.24629658, -0.18383513, -0.1213737 , -0.05891225,\n",
              "         0.00354919,  0.06601063,  0.12847207,  0.19093351,  0.25339496,\n",
              "         0.3158564 ]),\n",
              " <a list of 10 BarContainer objects>)"
            ]
          },
          "metadata": {},
          "execution_count": 15
        },
        {
          "output_type": "display_data",
          "data": {
            "text/plain": [
              "<Figure size 640x480 with 1 Axes>"
            ],
            "image/png": "[encoded data removed]"
          },
          "metadata": {}
        }
      ]
    },
    {
      "cell_type": "code",
      "source": [
        "plt.hist(ff.state_dict()[\"weight\"].reshape(-1))"
      ],
      "metadata": {
        "execution": {
          "iopub.status.busy": "2024-01-02T11:51:04.777645Z",
          "iopub.execute_input": "2024-01-02T11:51:04.778761Z",
          "iopub.status.idle": "2024-01-02T11:51:05.081068Z",
          "shell.execute_reply.started": "2024-01-02T11:51:04.778724Z",
          "shell.execute_reply": "2024-01-02T11:51:05.080222Z"
        },
        "trusted": true,
        "colab": {
          "base_uri": "https://localhost:8080/",
          "height": 517
        },
        "id": "N1T19czn5vOI",
        "outputId": "aa8734f9-f7b2-4dbe-cafc-ed7233a8a7a9"
      },
      "execution_count": 16,
      "outputs": [
        {
          "output_type": "execute_result",
          "data": {
            "text/plain": [
              "(array([11.,  9.,  8., 11., 14., 15., 11.,  8.,  4.,  9.]),\n",
              " array([-0.30875802, -0.24629658, -0.18383513, -0.1213737 , -0.05891225,\n",
              "         0.00354919,  0.06601063,  0.12847207,  0.19093351,  0.25339496,\n",
              "         0.3158564 ]),\n",
              " <BarContainer object of 10 artists>)"
            ]
          },
          "metadata": {},
          "execution_count": 16
        },
        {
          "output_type": "display_data",
          "data": {
            "text/plain": [
              "<Figure size 640x480 with 1 Axes>"
            ],
            "image/png": "[encoded data removed]"
          },
          "metadata": {}
        }
      ]
    },
    {
      "cell_type": "code",
      "source": [
        "ff.weight.data.normal_(mean=0,std=0.5)  #normalization"
      ],
      "metadata": {
        "execution": {
          "iopub.status.busy": "2024-01-02T11:52:08.049144Z",
          "iopub.execute_input": "2024-01-02T11:52:08.049651Z",
          "iopub.status.idle": "2024-01-02T11:52:08.059792Z",
          "shell.execute_reply.started": "2024-01-02T11:52:08.049606Z",
          "shell.execute_reply": "2024-01-02T11:52:08.058919Z"
        },
        "trusted": true,
        "colab": {
          "base_uri": "https://localhost:8080/"
        },
        "id": "odCYrBE45vOI",
        "outputId": "dd3fe3b7-ff1d-48a5-c2c0-e32675a3ff4a"
      },
      "execution_count": 17,
      "outputs": [
        {
          "output_type": "execute_result",
          "data": {
            "text/plain": [
              "tensor([[-0.0160, -0.8576,  0.1354, -0.3999,  0.1871, -0.2274,  0.3788,  0.2959,\n",
              "         -0.9312,  0.0295],\n",
              "        [-1.1808, -0.1420,  1.0581, -0.0556, -0.0183,  0.5514, -0.4751, -0.1761,\n",
              "         -0.8133,  0.5917],\n",
              "        [-0.3624,  0.3262,  0.1862,  0.2783,  0.3677, -0.6486, -0.1498, -0.5089,\n",
              "          0.1184,  0.3181],\n",
              "        [-0.8806, -0.2880, -0.3830, -0.0110, -0.1126,  0.1601,  0.1370,  0.6116,\n",
              "          0.2295, -0.0380],\n",
              "        [-0.3379,  0.0991,  0.1764, -0.1956,  0.3379,  0.3732, -0.2100,  0.2297,\n",
              "          0.7103, -0.6981],\n",
              "        [ 0.6290,  0.1995,  0.9339,  0.7036,  0.7464,  0.1934, -0.8716, -0.2860,\n",
              "          0.1280, -0.2357],\n",
              "        [-0.0133, -0.3214, -0.1115,  0.0349, -0.1405, -0.6433,  0.6538,  0.2872,\n",
              "          0.6103,  0.4308],\n",
              "        [ 1.3308, -0.8684, -0.7322,  0.6633, -0.1517, -0.5260, -1.0164, -0.4655,\n",
              "         -0.1955, -0.1444],\n",
              "        [-0.2082, -0.2903,  0.6477, -0.2997,  0.4156, -0.3245,  0.5821, -0.4897,\n",
              "          0.5615,  1.0373],\n",
              "        [ 0.7592,  0.2187, -0.2325,  0.1786, -0.5777, -0.0988, -0.8924, -0.2057,\n",
              "          0.0933,  0.5628]])"
            ]
          },
          "metadata": {},
          "execution_count": 17
        }
      ]
    },
    {
      "cell_type": "code",
      "source": [
        "plt.hist(ff.state_dict()[\"weight\"].reshape(-1))"
      ],
      "metadata": {
        "execution": {
          "iopub.status.busy": "2024-01-02T11:52:50.171998Z",
          "iopub.execute_input": "2024-01-02T11:52:50.172407Z",
          "iopub.status.idle": "2024-01-02T11:52:50.425369Z",
          "shell.execute_reply.started": "2024-01-02T11:52:50.172375Z",
          "shell.execute_reply": "2024-01-02T11:52:50.424517Z"
        },
        "trusted": true,
        "colab": {
          "base_uri": "https://localhost:8080/",
          "height": 517
        },
        "id": "b1YQs3G95vOJ",
        "outputId": "be0af692-2d2a-48d5-fad6-8ee655b50e3a"
      },
      "execution_count": 18,
      "outputs": [
        {
          "output_type": "execute_result",
          "data": {
            "text/plain": [
              "(array([ 3.,  8.,  8., 18., 17., 20., 10., 12.,  3.,  1.]),\n",
              " array([-1.18077052, -0.92961323, -0.67845601, -0.42729872, -0.17614147,\n",
              "         0.07501578,  0.32617304,  0.57733029,  0.82848758,  1.0796448 ,\n",
              "         1.33080208]),\n",
              " <BarContainer object of 10 artists>)"
            ]
          },
          "metadata": {},
          "execution_count": 18
        },
        {
          "output_type": "display_data",
          "data": {
            "text/plain": [
              "<Figure size 640x480 with 1 Axes>"
            ],
            "image/png": "[encoded data removed]"
          },
          "metadata": {}
        }
      ]
    },
    {
      "cell_type": "markdown",
      "source": [
        "#Working With Data"
      ],
      "metadata": {
        "id": "5zA1ia5fzez0"
      }
    },
    {
      "cell_type": "markdown",
      "source": [
        "Dataset - *Sotrage* and internal details <br>\n",
        "DataLoader *italicised text* - Internal data modiication"
      ],
      "metadata": {
        "id": "si11fBFa0O7I"
      }
    },
    {
      "cell_type": "code",
      "source": [
        "#!pip install torchvision --upgrade\n",
        "import torch\n",
        "from torch import nn\n",
        "from torch.utils.data import DataLoader\n",
        "from torchvision import datasets\n",
        "from torchvision.transforms import ToTensor"
      ],
      "metadata": {
        "id": "IpGNNPaezeJK"
      },
      "execution_count": 2,
      "outputs": []
    },
    {
      "cell_type": "code",
      "source": [
        "training_data = datasets.FashionMNIST(root='fashiondata',train=True,download=True,transform = ToTensor())"
      ],
      "metadata": {
        "id": "mMfwe-uRzeGQ"
      },
      "execution_count": null,
      "outputs": []
    },
    {
      "cell_type": "code",
      "source": [
        "testing_data = datasets.FashionMNIST(root='fashiondata',train=False,download=True,transform = ToTensor())"
      ],
      "metadata": {
        "id": "TMm4FgXYzeCW"
      },
      "execution_count": 8,
      "outputs": []
    },
    {
      "cell_type": "code",
      "source": [
        "bat_size = 32\n",
        "train_dataloader = DataLoader(training_data,batch_size=bat_size)\n",
        "test_dataloader = DataLoader(testing_data, batch_size=bat_size)"
      ],
      "metadata": {
        "id": "sAh2bfgzzd8i"
      },
      "execution_count": 10,
      "outputs": []
    },
    {
      "cell_type": "code",
      "source": [
        "for X,y in train_dataloader:\n",
        "  print(X.shape)\n",
        "  print(y.shape)\n",
        "  break"
      ],
      "metadata": {
        "colab": {
          "base_uri": "https://localhost:8080/"
        },
        "id": "_2XReEa5zd4h",
        "outputId": "2f8c75dd-ff45-4c51-ee52-1d86a19d6935"
      },
      "execution_count": 12,
      "outputs": [
        {
          "output_type": "stream",
          "name": "stdout",
          "text": [
            "torch.Size([32, 1, 28, 28])\n",
            "torch.Size([32])\n"
          ]
        }
      ]
    },
    {
      "cell_type": "markdown",
      "source": [
        "#Creating Model"
      ],
      "metadata": {
        "id": "1WTAsUsS-kfV"
      }
    },
    {
      "cell_type": "code",
      "source": [
        "class NeuralNetwork(nn.Module):\n",
        "\n",
        "  def __init__(self):\n",
        "    super().__init__()\n",
        "    self.flatten = nn.Flatten()\n",
        "    self.lin_stack = nn.Sequential(\n",
        "        nn.Linear(28*28,512),\n",
        "        nn.ReLU(),\n",
        "        nn.Linear(512,512),\n",
        "        nn.ReLU(),\n",
        "        nn.Linear(512,10)\n",
        "\n",
        "    )\n",
        "\n",
        "  def forward(self,x):\n",
        "    x = self.Flatten(x)\n",
        "    outs = self.lin_stack(x)\n",
        "    return outs"
      ],
      "metadata": {
        "id": "0CtKjx6Izd2r"
      },
      "execution_count": 13,
      "outputs": []
    },
    {
      "cell_type": "code",
      "source": [
        "model = NeuralNetwork()\n"
      ],
      "metadata": {
        "id": "tyrgnXafzdzg"
      },
      "execution_count": 14,
      "outputs": []
    },
    {
      "cell_type": "code",
      "source": [
        "model"
      ],
      "metadata": {
        "colab": {
          "base_uri": "https://localhost:8080/"
        },
        "id": "bVs_wC4Yzduq",
        "outputId": "e01e4e5c-1286-4c0b-824c-0b5f630d06cb"
      },
      "execution_count": 15,
      "outputs": [
        {
          "output_type": "execute_result",
          "data": {
            "text/plain": [
              "NeuralNetwork(\n",
              "  (flatten): Flatten(start_dim=1, end_dim=-1)\n",
              "  (lin_stack): Sequential(\n",
              "    (0): Linear(in_features=784, out_features=512, bias=True)\n",
              "    (1): ReLU()\n",
              "    (2): Linear(in_features=512, out_features=512, bias=True)\n",
              "    (3): ReLU()\n",
              "    (4): Linear(in_features=512, out_features=10, bias=True)\n",
              "  )\n",
              ")"
            ]
          },
          "metadata": {},
          "execution_count": 15
        }
      ]
    },
    {
      "cell_type": "code",
      "source": [
        "for k in model.state_dict():\n",
        "  print(k)"
      ],
      "metadata": {
        "colab": {
          "base_uri": "https://localhost:8080/"
        },
        "id": "5LNbBd3szdqf",
        "outputId": "6baff9f1-bffe-4ea0-8220-5c3d2bbd8af4"
      },
      "execution_count": 16,
      "outputs": [
        {
          "output_type": "stream",
          "name": "stdout",
          "text": [
            "lin_stack.0.weight\n",
            "lin_stack.0.bias\n",
            "lin_stack.2.weight\n",
            "lin_stack.2.bias\n",
            "lin_stack.4.weight\n",
            "lin_stack.4.bias\n"
          ]
        }
      ]
    },
    {
      "cell_type": "code",
      "source": [
        "for k in model.state_dict()['lin_stack.4.bias']:\n",
        "  print(k)"
      ],
      "metadata": {
        "colab": {
          "base_uri": "https://localhost:8080/"
        },
        "id": "am0d4Q_bzdoa",
        "outputId": "126e6acf-a22e-472d-c0ca-33d4f6a5fca1"
      },
      "execution_count": 18,
      "outputs": [
        {
          "output_type": "stream",
          "name": "stdout",
          "text": [
            "tensor(0.0220)\n",
            "tensor(0.0170)\n",
            "tensor(0.0185)\n",
            "tensor(0.0341)\n",
            "tensor(-0.0101)\n",
            "tensor(-0.0225)\n",
            "tensor(-0.0312)\n",
            "tensor(-0.0252)\n",
            "tensor(-0.0401)\n",
            "tensor(-0.0041)\n"
          ]
        }
      ]
    },
    {
      "cell_type": "code",
      "source": [
        "wt = model.state_dict()['lin_stack.4.bias']"
      ],
      "metadata": {
        "id": "32Fia5Q8zdlB"
      },
      "execution_count": 20,
      "outputs": []
    },
    {
      "cell_type": "code",
      "source": [
        "wt.shape"
      ],
      "metadata": {
        "colab": {
          "base_uri": "https://localhost:8080/"
        },
        "id": "fE8Rgc3FE4lc",
        "outputId": "624f1d90-6dc4-48e1-f4c7-878889ad0321"
      },
      "execution_count": 21,
      "outputs": [
        {
          "output_type": "execute_result",
          "data": {
            "text/plain": [
              "torch.Size([10])"
            ]
          },
          "metadata": {},
          "execution_count": 21
        }
      ]
    },
    {
      "cell_type": "code",
      "source": [
        "import matplotlib.pyplot as plt\n",
        "plt.hist(wt)"
      ],
      "metadata": {
        "colab": {
          "base_uri": "https://localhost:8080/",
          "height": 517
        },
        "id": "Wgdw4ZraE4iv",
        "outputId": "8036a088-65c5-4df5-d4d6-67aab62e635e"
      },
      "execution_count": 22,
      "outputs": [
        {
          "output_type": "execute_result",
          "data": {
            "text/plain": [
              "(array([1., 1., 2., 0., 2., 0., 0., 2., 1., 1.]),\n",
              " array([-0.04014657, -0.03271911, -0.02529165, -0.01786419, -0.01043672,\n",
              "        -0.00300926,  0.0044182 ,  0.01184566,  0.01927313,  0.02670059,\n",
              "         0.03412805]),\n",
              " <BarContainer object of 10 artists>)"
            ]
          },
          "metadata": {},
          "execution_count": 22
        },
        {
          "output_type": "display_data",
          "data": {
            "text/plain": [
              "<Figure size 640x480 with 1 Axes>"
            ],
            "image/png": "[encoded data removed]"
          },
          "metadata": {}
        }
      ]
    },
    {
      "cell_type": "code",
      "source": [
        "device = 'cuda' if torch.cuda.is_available() else 'cpu'"
      ],
      "metadata": {
        "id": "3NDmBuVqE4gg"
      },
      "execution_count": 24,
      "outputs": []
    },
    {
      "cell_type": "code",
      "source": [
        "device"
      ],
      "metadata": {
        "colab": {
          "base_uri": "https://localhost:8080/",
          "height": 36
        },
        "id": "jjB2EifEE4d8",
        "outputId": "1dcab815-62ab-429a-9bd8-acc367069a87"
      },
      "execution_count": 25,
      "outputs": [
        {
          "output_type": "execute_result",
          "data": {
            "text/plain": [
              "'cuda'"
            ],
            "application/vnd.google.colaboratory.intrinsic+json": {
              "type": "string"
            }
          },
          "metadata": {},
          "execution_count": 25
        }
      ]
    },
    {
      "cell_type": "code",
      "source": [
        "model = model.to(device)"
      ],
      "metadata": {
        "id": "XBLVyW9cE4b9"
      },
      "execution_count": 26,
      "outputs": []
    },
    {
      "cell_type": "code",
      "source": [
        "model.state_dict()['lin_stack.4.bias']"
      ],
      "metadata": {
        "colab": {
          "base_uri": "https://localhost:8080/"
        },
        "id": "IqFhO18FE4Y_",
        "outputId": "e3f63a8d-d156-44ab-a1e6-d38bf3e1d2ad"
      },
      "execution_count": 27,
      "outputs": [
        {
          "output_type": "execute_result",
          "data": {
            "text/plain": [
              "tensor([ 0.0220,  0.0170,  0.0185,  0.0341, -0.0101, -0.0225, -0.0312, -0.0252,\n",
              "        -0.0401, -0.0041], device='cuda:0')"
            ]
          },
          "metadata": {},
          "execution_count": 27
        }
      ]
    },
    {
      "cell_type": "markdown",
      "source": [
        "# Optiizing the model parameters"
      ],
      "metadata": {
        "id": "8oKXanT6HVcj"
      }
    },
    {
      "cell_type": "code",
      "source": [
        "model.parameters()"
      ],
      "metadata": {
        "colab": {
          "base_uri": "https://localhost:8080/"
        },
        "id": "mPEreeAyHmwP",
        "outputId": "99653150-0661-4397-df9d-900bb6781da1"
      },
      "execution_count": 29,
      "outputs": [
        {
          "output_type": "execute_result",
          "data": {
            "text/plain": [
              "<generator object Module.parameters at 0x7f71d5d1a500>"
            ]
          },
          "metadata": {},
          "execution_count": 29
        }
      ]
    },
    {
      "cell_type": "code",
      "source": [
        "loss_fn = nn.CrossEntropyLoss()\n",
        "optimizer = torch.optim.SGD(model.parameters(), lr = 1e-3)"
      ],
      "metadata": {
        "id": "43MuvC6oHVOq"
      },
      "execution_count": 30,
      "outputs": []
    },
    {
      "cell_type": "code",
      "source": [
        "def train(dataloader, model, loss_fn, optimizer):\n",
        "  size = len(dataloader.dataset)\n",
        "  model.train()\n",
        "  for batch, (X,y) in enumerate(dataloader):\n",
        "    X,y = X.to(device), y.to(device)\n",
        "\n",
        "\n",
        "    #forward propagation - compute the prediction\n",
        "    y_hat = model(X)\n",
        "    loss = loss_fn(y_hat,y)\n",
        "\n",
        "    #optimization\n",
        "    loss.backward()\n",
        "    optimizer.step()\n",
        "    optimizer.zero_grad()\n",
        "\n",
        "    if batch%100 == 0:\n",
        "      loss, current = loss.item(), (batch+1)+len(X)\n",
        "      print(f\"loss: {loss:>5f} [{current:=5d}/{size:>5d}]\")\n"
      ],
      "metadata": {
        "id": "dGAzxDsbHVLb"
      },
      "execution_count": 43,
      "outputs": []
    },
    {
      "cell_type": "code",
      "source": [
        "def test(dataloader, model, loss_fn):\n",
        "  size = len(dataloader.datasets)\n",
        "  num_batches = len(dataloader)\n",
        "  model.eval()\n",
        "\n",
        "  test_loss, correct = 0,0\n",
        "\n",
        "  with torch.no_grad():\n",
        "    for X,y in dataloader:\n",
        "      X,y = X.to(device),y.to(device)\n",
        "      y_hat = model(X)\n",
        "      test_loss = test_loss + loss_fn(y_hat,y).item()\n",
        "      correct += (pred.argmax(1)==y).type(torch.float).sum().item()\n",
        "  test_loss /= num_batches\n",
        "  correct /+ size\n",
        "  print(f\"Test Error: \\n Acuracy: {(100*correct):>0.1f}%, avg loss: {test_loss:>8f}\\n\")\n"
      ],
      "metadata": {
        "id": "dMO-bF5VHVIb"
      },
      "execution_count": 37,
      "outputs": []
    },
    {
      "cell_type": "code",
      "source": [
        "epochs = 1\n",
        "for t in range(epochs):\n",
        "  print(f\"Epoch {t+1}\\m --------------------------\")\n",
        "  train(train_dataloader,model,loss_fn,optimizer)\n",
        "  test(test_dataloader,model,loss_fn)\n",
        "\n",
        "print(\"Training Done\")"
      ],
      "metadata": {
        "colab": {
          "base_uri": "https://localhost:8080/",
          "height": 408
        },
        "id": "6S0Ea1lyHVEN",
        "outputId": "cb14bc1c-77b3-46c4-b67d-a16372652565"
      },
      "execution_count": 44,
      "outputs": [
        {
          "output_type": "stream",
          "name": "stdout",
          "text": [
            "Epoch 1\\m --------------------------\n"
          ]
        },
        {
          "output_type": "error",
          "ename": "AttributeError",
          "evalue": "'NeuralNetwork' object has no attribute 'Flatten'",
          "traceback": [
            "\u001b[0;31m---------------------------------------------------------------------------\u001b[0m",
            "\u001b[0;31mAttributeError\u001b[0m                            Traceback (most recent call last)",
            "\u001b[0;32m<ipython-input-44-30f18582b7b4>\u001b[0m in \u001b[0;36m<cell line: 2>\u001b[0;34m()\u001b[0m\n\u001b[1;32m      2\u001b[0m \u001b[0;32mfor\u001b[0m \u001b[0mt\u001b[0m \u001b[0;32min\u001b[0m \u001b[0mrange\u001b[0m\u001b[0;34m(\u001b[0m\u001b[0mepochs\u001b[0m\u001b[0;34m)\u001b[0m\u001b[0;34m:\u001b[0m\u001b[0;34m\u001b[0m\u001b[0;34m\u001b[0m\u001b[0m\n\u001b[1;32m      3\u001b[0m   \u001b[0mprint\u001b[0m\u001b[0;34m(\u001b[0m\u001b[0;34mf\"Epoch {t+1}\\m --------------------------\"\u001b[0m\u001b[0;34m)\u001b[0m\u001b[0;34m\u001b[0m\u001b[0;34m\u001b[0m\u001b[0m\n\u001b[0;32m----> 4\u001b[0;31m   \u001b[0mtrain\u001b[0m\u001b[0;34m(\u001b[0m\u001b[0mtrain_dataloader\u001b[0m\u001b[0;34m,\u001b[0m\u001b[0mmodel\u001b[0m\u001b[0;34m,\u001b[0m\u001b[0mloss_fn\u001b[0m\u001b[0;34m,\u001b[0m\u001b[0moptimizer\u001b[0m\u001b[0;34m)\u001b[0m\u001b[0;34m\u001b[0m\u001b[0;34m\u001b[0m\u001b[0m\n\u001b[0m\u001b[1;32m      5\u001b[0m   \u001b[0mtest\u001b[0m\u001b[0;34m(\u001b[0m\u001b[0mtest_dataloader\u001b[0m\u001b[0;34m,\u001b[0m\u001b[0mmodel\u001b[0m\u001b[0;34m,\u001b[0m\u001b[0mloss_fn\u001b[0m\u001b[0;34m)\u001b[0m\u001b[0;34m\u001b[0m\u001b[0;34m\u001b[0m\u001b[0m\n\u001b[1;32m      6\u001b[0m \u001b[0;34m\u001b[0m\u001b[0m\n",
            "\u001b[0;32m<ipython-input-43-e7edfea08997>\u001b[0m in \u001b[0;36mtrain\u001b[0;34m(dataloader, model, loss_fn, optimizer)\u001b[0m\n\u001b[1;32m      7\u001b[0m \u001b[0;34m\u001b[0m\u001b[0m\n\u001b[1;32m      8\u001b[0m     \u001b[0;31m#forward propagation - compute the prediction\u001b[0m\u001b[0;34m\u001b[0m\u001b[0;34m\u001b[0m\u001b[0m\n\u001b[0;32m----> 9\u001b[0;31m     \u001b[0my_hat\u001b[0m \u001b[0;34m=\u001b[0m \u001b[0mmodel\u001b[0m\u001b[0;34m(\u001b[0m\u001b[0mX\u001b[0m\u001b[0;34m)\u001b[0m\u001b[0;34m\u001b[0m\u001b[0;34m\u001b[0m\u001b[0m\n\u001b[0m\u001b[1;32m     10\u001b[0m     \u001b[0mloss\u001b[0m \u001b[0;34m=\u001b[0m \u001b[0mloss_fn\u001b[0m\u001b[0;34m(\u001b[0m\u001b[0my_hat\u001b[0m\u001b[0;34m,\u001b[0m\u001b[0my\u001b[0m\u001b[0;34m)\u001b[0m\u001b[0;34m\u001b[0m\u001b[0;34m\u001b[0m\u001b[0m\n\u001b[1;32m     11\u001b[0m \u001b[0;34m\u001b[0m\u001b[0m\n",
            "\u001b[0;32m/usr/local/lib/python3.10/dist-packages/torch/nn/modules/module.py\u001b[0m in \u001b[0;36m_wrapped_call_impl\u001b[0;34m(self, *args, **kwargs)\u001b[0m\n\u001b[1;32m   1516\u001b[0m             \u001b[0;32mreturn\u001b[0m \u001b[0mself\u001b[0m\u001b[0;34m.\u001b[0m\u001b[0m_compiled_call_impl\u001b[0m\u001b[0;34m(\u001b[0m\u001b[0;34m*\u001b[0m\u001b[0margs\u001b[0m\u001b[0;34m,\u001b[0m \u001b[0;34m**\u001b[0m\u001b[0mkwargs\u001b[0m\u001b[0;34m)\u001b[0m  \u001b[0;31m# type: ignore[misc]\u001b[0m\u001b[0;34m\u001b[0m\u001b[0;34m\u001b[0m\u001b[0m\n\u001b[1;32m   1517\u001b[0m         \u001b[0;32melse\u001b[0m\u001b[0;34m:\u001b[0m\u001b[0;34m\u001b[0m\u001b[0;34m\u001b[0m\u001b[0m\n\u001b[0;32m-> 1518\u001b[0;31m             \u001b[0;32mreturn\u001b[0m \u001b[0mself\u001b[0m\u001b[0;34m.\u001b[0m\u001b[0m_call_impl\u001b[0m\u001b[0;34m(\u001b[0m\u001b[0;34m*\u001b[0m\u001b[0margs\u001b[0m\u001b[0;34m,\u001b[0m \u001b[0;34m**\u001b[0m\u001b[0mkwargs\u001b[0m\u001b[0;34m)\u001b[0m\u001b[0;34m\u001b[0m\u001b[0;34m\u001b[0m\u001b[0m\n\u001b[0m\u001b[1;32m   1519\u001b[0m \u001b[0;34m\u001b[0m\u001b[0m\n\u001b[1;32m   1520\u001b[0m     \u001b[0;32mdef\u001b[0m \u001b[0m_call_impl\u001b[0m\u001b[0;34m(\u001b[0m\u001b[0mself\u001b[0m\u001b[0;34m,\u001b[0m \u001b[0;34m*\u001b[0m\u001b[0margs\u001b[0m\u001b[0;34m,\u001b[0m \u001b[0;34m**\u001b[0m\u001b[0mkwargs\u001b[0m\u001b[0;34m)\u001b[0m\u001b[0;34m:\u001b[0m\u001b[0;34m\u001b[0m\u001b[0;34m\u001b[0m\u001b[0m\n",
            "\u001b[0;32m/usr/local/lib/python3.10/dist-packages/torch/nn/modules/module.py\u001b[0m in \u001b[0;36m_call_impl\u001b[0;34m(self, *args, **kwargs)\u001b[0m\n\u001b[1;32m   1525\u001b[0m                 \u001b[0;32mor\u001b[0m \u001b[0m_global_backward_pre_hooks\u001b[0m \u001b[0;32mor\u001b[0m \u001b[0m_global_backward_hooks\u001b[0m\u001b[0;34m\u001b[0m\u001b[0;34m\u001b[0m\u001b[0m\n\u001b[1;32m   1526\u001b[0m                 or _global_forward_hooks or _global_forward_pre_hooks):\n\u001b[0;32m-> 1527\u001b[0;31m             \u001b[0;32mreturn\u001b[0m \u001b[0mforward_call\u001b[0m\u001b[0;34m(\u001b[0m\u001b[0;34m*\u001b[0m\u001b[0margs\u001b[0m\u001b[0;34m,\u001b[0m \u001b[0;34m**\u001b[0m\u001b[0mkwargs\u001b[0m\u001b[0;34m)\u001b[0m\u001b[0;34m\u001b[0m\u001b[0;34m\u001b[0m\u001b[0m\n\u001b[0m\u001b[1;32m   1528\u001b[0m \u001b[0;34m\u001b[0m\u001b[0m\n\u001b[1;32m   1529\u001b[0m         \u001b[0;32mtry\u001b[0m\u001b[0;34m:\u001b[0m\u001b[0;34m\u001b[0m\u001b[0;34m\u001b[0m\u001b[0m\n",
            "\u001b[0;32m<ipython-input-13-75999053dbd8>\u001b[0m in \u001b[0;36mforward\u001b[0;34m(self, x)\u001b[0m\n\u001b[1;32m     14\u001b[0m \u001b[0;34m\u001b[0m\u001b[0m\n\u001b[1;32m     15\u001b[0m   \u001b[0;32mdef\u001b[0m \u001b[0mforward\u001b[0m\u001b[0;34m(\u001b[0m\u001b[0mself\u001b[0m\u001b[0;34m,\u001b[0m\u001b[0mx\u001b[0m\u001b[0;34m)\u001b[0m\u001b[0;34m:\u001b[0m\u001b[0;34m\u001b[0m\u001b[0;34m\u001b[0m\u001b[0m\n\u001b[0;32m---> 16\u001b[0;31m     \u001b[0mx\u001b[0m \u001b[0;34m=\u001b[0m \u001b[0mself\u001b[0m\u001b[0;34m.\u001b[0m\u001b[0mFlatten\u001b[0m\u001b[0;34m(\u001b[0m\u001b[0mx\u001b[0m\u001b[0;34m)\u001b[0m\u001b[0;34m\u001b[0m\u001b[0;34m\u001b[0m\u001b[0m\n\u001b[0m\u001b[1;32m     17\u001b[0m     \u001b[0mouts\u001b[0m \u001b[0;34m=\u001b[0m \u001b[0mself\u001b[0m\u001b[0;34m.\u001b[0m\u001b[0mlin_stack\u001b[0m\u001b[0;34m(\u001b[0m\u001b[0mx\u001b[0m\u001b[0;34m)\u001b[0m\u001b[0;34m\u001b[0m\u001b[0;34m\u001b[0m\u001b[0m\n\u001b[1;32m     18\u001b[0m     \u001b[0;32mreturn\u001b[0m \u001b[0mouts\u001b[0m\u001b[0;34m\u001b[0m\u001b[0;34m\u001b[0m\u001b[0m\n",
            "\u001b[0;32m/usr/local/lib/python3.10/dist-packages/torch/nn/modules/module.py\u001b[0m in \u001b[0;36m__getattr__\u001b[0;34m(self, name)\u001b[0m\n\u001b[1;32m   1693\u001b[0m             \u001b[0;32mif\u001b[0m \u001b[0mname\u001b[0m \u001b[0;32min\u001b[0m \u001b[0mmodules\u001b[0m\u001b[0;34m:\u001b[0m\u001b[0;34m\u001b[0m\u001b[0;34m\u001b[0m\u001b[0m\n\u001b[1;32m   1694\u001b[0m                 \u001b[0;32mreturn\u001b[0m \u001b[0mmodules\u001b[0m\u001b[0;34m[\u001b[0m\u001b[0mname\u001b[0m\u001b[0;34m]\u001b[0m\u001b[0;34m\u001b[0m\u001b[0;34m\u001b[0m\u001b[0m\n\u001b[0;32m-> 1695\u001b[0;31m         \u001b[0;32mraise\u001b[0m \u001b[0mAttributeError\u001b[0m\u001b[0;34m(\u001b[0m\u001b[0;34mf\"'{type(self).__name__}' object has no attribute '{name}'\"\u001b[0m\u001b[0;34m)\u001b[0m\u001b[0;34m\u001b[0m\u001b[0;34m\u001b[0m\u001b[0m\n\u001b[0m\u001b[1;32m   1696\u001b[0m \u001b[0;34m\u001b[0m\u001b[0m\n\u001b[1;32m   1697\u001b[0m     \u001b[0;32mdef\u001b[0m \u001b[0m__setattr__\u001b[0m\u001b[0;34m(\u001b[0m\u001b[0mself\u001b[0m\u001b[0;34m,\u001b[0m \u001b[0mname\u001b[0m\u001b[0;34m:\u001b[0m \u001b[0mstr\u001b[0m\u001b[0;34m,\u001b[0m \u001b[0mvalue\u001b[0m\u001b[0;34m:\u001b[0m \u001b[0mUnion\u001b[0m\u001b[0;34m[\u001b[0m\u001b[0mTensor\u001b[0m\u001b[0;34m,\u001b[0m \u001b[0;34m'Module'\u001b[0m\u001b[0;34m]\u001b[0m\u001b[0;34m)\u001b[0m \u001b[0;34m->\u001b[0m \u001b[0;32mNone\u001b[0m\u001b[0;34m:\u001b[0m\u001b[0;34m\u001b[0m\u001b[0;34m\u001b[0m\u001b[0m\n",
            "\u001b[0;31mAttributeError\u001b[0m: 'NeuralNetwork' object has no attribute 'Flatten'"
          ]
        }
      ]
    },
    {
      "cell_type": "code",
      "source": [],
      "metadata": {
        "id": "B36mCH3CE4WE"
      },
      "execution_count": null,
      "outputs": []
    },
    {
      "cell_type": "code",
      "source": [],
      "metadata": {
        "id": "IG0AMAflzdhw"
      },
      "execution_count": null,
      "outputs": []
    },
    {
      "cell_type": "code",
      "source": [],
      "metadata": {
        "id": "YA7yu3yW5vOJ"
      },
      "execution_count": 18,
      "outputs": []
    }
  ]
}