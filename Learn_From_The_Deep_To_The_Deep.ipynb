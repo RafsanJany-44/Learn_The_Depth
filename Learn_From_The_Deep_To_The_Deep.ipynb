{
  "nbformat": 4,
  "nbformat_minor": 0,
  "metadata": {
    "colab": {
      "provenance": [],
      "authorship_tag": "ABX9TyPECPVbJM+/fmCOAvr7hTDD",
      "include_colab_link": true
    },
    "kernelspec": {
      "name": "python3",
      "display_name": "Python 3"
    },
    "language_info": {
      "name": "python"
    }
  },
  "cells": [
    {
      "cell_type": "markdown",
      "metadata": {
        "id": "view-in-github",
        "colab_type": "text"
      },
      "source": [
        "<a href=\"https://colab.research.google.com/github/RafsanJany-44/Learn_The_Deep/blob/main/Learn_From_The_Deep_To_The_Deep.ipynb\" target=\"_parent\"><img src=\"https://colab.research.google.com/assets/colab-badge.svg\" alt=\"Open In Colab\"/></a>"
      ]
    },
    {
      "cell_type": "markdown",
      "source": [
        "https://learn.udacity.com/courses/ud187/lessons/7b590cdb-0acf-4118-848c-8728ced19bc6/concepts/2cd12489-dbe4-4a89-83a9-3c6b363c5c11"
      ],
      "metadata": {
        "id": "adVwws7JF3-N"
      }
    },
    {
      "cell_type": "markdown",
      "source": [
        "#Lets Make a Traditional Program"
      ],
      "metadata": {
        "id": "40MUeZSOZj4m"
      }
    },
    {
      "cell_type": "code",
      "source": [
        "celsius = [-40, -10,  0,  8, 15, 22,  38]"
      ],
      "metadata": {
        "id": "LoUCYX7uWi83"
      },
      "execution_count": null,
      "outputs": []
    },
    {
      "cell_type": "code",
      "execution_count": null,
      "metadata": {
        "id": "qUO8EWPSSEvs"
      },
      "outputs": [],
      "source": [
        "def cel_to_far(c):\n",
        "  f = c * (9/5) + 32\n",
        "  return f"
      ]
    },
    {
      "cell_type": "code",
      "source": [
        "\n",
        "\n",
        "fahrenheit = []\n",
        "for i in celsius:\n",
        "  fahrenheit.append(cel_to_far(i))\n",
        "\n"
      ],
      "metadata": {
        "id": "QhuYshqxUyAC"
      },
      "execution_count": null,
      "outputs": []
    },
    {
      "cell_type": "code",
      "source": [
        "for i,c in enumerate(celsius):\n",
        "  print(c,\"degrees Celsius = \", fahrenheit[i],\"degrees Fahrenheit\")"
      ],
      "metadata": {
        "colab": {
          "base_uri": "https://localhost:8080/"
        },
        "id": "orhKwpNUdQtW",
        "outputId": "73143019-1d33-44b9-b5bc-13981c4e0861"
      },
      "execution_count": null,
      "outputs": [
        {
          "output_type": "stream",
          "name": "stdout",
          "text": [
            "-40 degrees Celsius =  -40.0 degrees Fahrenheit\n",
            "-10 degrees Celsius =  14.0 degrees Fahrenheit\n",
            "0 degrees Celsius =  32.0 degrees Fahrenheit\n",
            "8 degrees Celsius =  46.4 degrees Fahrenheit\n",
            "15 degrees Celsius =  59.0 degrees Fahrenheit\n",
            "22 degrees Celsius =  71.6 degrees Fahrenheit\n",
            "38 degrees Celsius =  100.4 degrees Fahrenheit\n"
          ]
        }
      ]
    },
    {
      "cell_type": "markdown",
      "source": [
        "##Lets Do the Job\n",
        "\n",
        "So we have the input and the output. Our Algorithm or formula is f=c*(9/5)+32. Lets make a Nural Network which can detect the algorithm with our inputdata (<i>celsius</i>) and outputdata (<i>fahrenheit</i>).\n",
        "\n"
      ],
      "metadata": {
        "id": "QqLTOlrKck2m"
      }
    },
    {
      "cell_type": "code",
      "source": [
        "import numpy as np"
      ],
      "metadata": {
        "id": "d-DXkpKqdJtW"
      },
      "execution_count": null,
      "outputs": []
    },
    {
      "cell_type": "markdown",
      "source": [
        "Make Numpy Dataset"
      ],
      "metadata": {
        "id": "jcidD_hGNfyy"
      }
    },
    {
      "cell_type": "code",
      "source": [
        "celsius_in = np.array(celsius,  dtype=float)\n",
        "fahrenheit_out = np.array(fahrenheit,  dtype=float)"
      ],
      "metadata": {
        "id": "no-HTR1cYNK4"
      },
      "execution_count": null,
      "outputs": []
    },
    {
      "cell_type": "markdown",
      "source": [
        "## Create the model"
      ],
      "metadata": {
        "id": "lhJ5zOZhgCqu"
      }
    },
    {
      "cell_type": "code",
      "source": [
        "import tensorflow as tf\n",
        "import logging\n",
        "logger = tf.get_logger()\n",
        "logger.setLevel(logging.ERROR)"
      ],
      "metadata": {
        "id": "Vvb82gL6g9wu"
      },
      "execution_count": null,
      "outputs": []
    },
    {
      "cell_type": "markdown",
      "source": [
        "### Build a layer"
      ],
      "metadata": {
        "id": "A4wmxxGTgX3f"
      }
    },
    {
      "cell_type": "markdown",
      "source": [
        "We'll call the layer <font color=\"coral\">`l0`</font> and create it by instantiating <font color=\"coral\">`tf.keras.layers.Dense`</font> with the following configuration:\n",
        "\n",
        "*   <font color=\"coral\">`input_shape=[1]`</font> — This specifies that the input to this layer is a single value. That is, the shape is a one-dimensional array with one member. The single value is a floating point number, representing degrees Celsius.\n",
        "\n",
        "*    <font color=\"coral\">`units=1`</font> — This specifies the number of neurons in the layer. The number of neurons defines how many internal variables the layer has to try to learn how to solve the problem . Since this is the final layer, it is also the size of the model's output — a single float value representing degrees Fahrenheit. (In a multi-layered network, the size and shape of the layer would need to match the <font color=\"coral\">`input_shape`</font> of the next layer.)"
      ],
      "metadata": {
        "id": "13MI7XybHW2x"
      }
    },
    {
      "cell_type": "code",
      "source": [
        "l0 = tf.keras.layers.Dense(units=1, input_shape=[1])"
      ],
      "metadata": {
        "id": "AjbjSebwcgQZ"
      },
      "execution_count": null,
      "outputs": []
    },
    {
      "cell_type": "markdown",
      "source": [
        "### Assemble layers into the model\n",
        "\n",
        "\n",
        "Once layers are defined, they need to be assembled into a model. The Sequential model definition takes a list of layers as an argument, specifying the calculation order from the input to the output.\n",
        "\n",
        "This model has just a single layer, l0."
      ],
      "metadata": {
        "id": "cahRNMY4ghNd"
      }
    },
    {
      "cell_type": "code",
      "source": [
        "model = tf.keras.Sequential([l0])\n",
        "\n",
        "#model = tf.keras.Sequential(\n",
        "#    tf.keras.layers.Dense(units=1, input_shape=[1])\n",
        "#)\"\"\""
      ],
      "metadata": {
        "id": "p3L4Cws-gPh2"
      },
      "execution_count": null,
      "outputs": []
    },
    {
      "cell_type": "markdown",
      "source": [
        "## Compile the model, with loss and optimizer functions\n",
        "\n",
        "Before training, the model has to be compiled. When compiled for training, the model is given:\n",
        "\n",
        "- **Loss function** — A way of measuring how far off predictions are from the desired outcome. (The measured difference is called the \"loss\".)\n",
        "\n",
        "- **Optimizer function** — A way of adjusting internal values in order to reduce the loss.\n"
      ],
      "metadata": {
        "id": "Ss1eyYVehJku"
      }
    },
    {
      "cell_type": "code",
      "source": [
        "model.compile(loss='mean_squared_error',\n",
        "              optimizer=tf.keras.optimizers.Adam(0.1))"
      ],
      "metadata": {
        "id": "NtmBPoWMgR9f"
      },
      "execution_count": null,
      "outputs": []
    },
    {
      "cell_type": "markdown",
      "source": [
        "These are used during training (`model.fit()`, below) to first calculate the loss at each point, and then improve it. In fact, the act of calculating the current loss of a model and then improving it is precisely what training is.\n",
        "\n",
        "During training, the optimizer function is used to calculate adjustments to the model's internal variables. The goal is to adjust the internal variables until the model (which is really a math function) mirrors the actual equation for converting Celsius to Fahrenheit.\n",
        "\n",
        "TensorFlow uses numerical analysis to perform this tuning, and all this complexity is hidden from you so we will not go into the details here. What is useful to know about these parameters are:\n",
        "\n",
        "The loss function ([mean squared error](https://en.wikipedia.org/wiki/Mean_squared_error)) and the optimizer ([Adam](https://machinelearningmastery.com/adam-optimization-algorithm-for-deep-learning/)) used here are standard for simple models like this one, but many others are available. It is not important to know how these specific functions work at this point.\n",
        "\n",
        "One part of the Optimizer you may need to think about when building your own models is the learning rate (`0.1` in the code above). This is the step size taken when adjusting values in the model. If the value is too small, it will take too many iterations to train the model. Too large, and accuracy goes down. Finding a good value often involves some trial and error, but the range is usually within 0.001 (default), and 0.1"
      ],
      "metadata": {
        "id": "zZsdllvlLOMc"
      }
    },
    {
      "cell_type": "markdown",
      "source": [
        "## Train the model\n",
        "\n",
        "Train the model by calling the `fit` method.\n",
        "\n",
        "During training, the model takes in Celsius values, performs a calculation using the current internal variables (called \"weights\") and outputs values which are meant to be the Fahrenheit equivalent. Since the weights are initially set randomly, the output will not be close to the correct value. The difference between the actual output and the desired output is calculated using the loss function, and the optimizer function directs how the weights should be adjusted.\n",
        "\n",
        "This cycle of calculate, compare, adjust is controlled by the `fit` method. The first argument is the inputs, the second argument is the desired outputs. The `epochs` argument specifies how many times this cycle should be run, and the `verbose` argument controls how much output the method produces."
      ],
      "metadata": {
        "id": "jb7I1y9nhPpl"
      }
    },
    {
      "cell_type": "markdown",
      "source": [],
      "metadata": {
        "id": "OYkeZK5QLe0l"
      }
    },
    {
      "cell_type": "code",
      "source": [
        "%%time\n",
        "history = model.fit(celsius_in, fahrenheit_out, epochs=500, verbose=False)\n",
        "print(\"Finished training the model\")"
      ],
      "metadata": {
        "colab": {
          "base_uri": "https://localhost:8080/"
        },
        "id": "_zGdZ4BFhTcF",
        "outputId": "05eed991-fb46-4efe-cfcd-8af9dacb2822"
      },
      "execution_count": null,
      "outputs": [
        {
          "output_type": "stream",
          "name": "stdout",
          "text": [
            "Finished training the model\n",
            "CPU times: user 4.12 s, sys: 171 ms, total: 4.3 s\n",
            "Wall time: 3.77 s\n"
          ]
        }
      ]
    },
    {
      "cell_type": "markdown",
      "source": [
        "## Display training statistics\n",
        "\n",
        "The `fit` method returns a history object. We can use this object to plot how the loss of our model goes down after each training epoch. A high loss means that the Fahrenheit degrees the model predicts is far from the corresponding value in `fahrenheit_a`.\n",
        "\n",
        "We'll use [Matplotlib](https://matplotlib.org/) to visualize this (you could use another tool). As you can see, our model improves very quickly at first, and then has a steady, slow improvement until it is very near \"perfect\" towards the end.\n"
      ],
      "metadata": {
        "id": "j4qBeuIfLiWe"
      }
    },
    {
      "cell_type": "code",
      "source": [
        "import matplotlib.pyplot as plt\n",
        "plt.xlabel('Epoch Number')\n",
        "plt.ylabel(\"Loss Magnitude\")\n",
        "plt.plot(history.history['loss'])"
      ],
      "metadata": {
        "id": "DHq-PeICLh3v"
      },
      "execution_count": null,
      "outputs": []
    },
    {
      "cell_type": "code",
      "source": [],
      "metadata": {
        "id": "Qv6zQaXLLgpS"
      },
      "execution_count": null,
      "outputs": []
    },
    {
      "cell_type": "markdown",
      "source": [
        "## Use the model to predict values"
      ],
      "metadata": {
        "id": "FGgi_j9Nhs02"
      }
    },
    {
      "cell_type": "code",
      "source": [
        "print(model.predict([100.0]))"
      ],
      "metadata": {
        "colab": {
          "base_uri": "https://localhost:8080/"
        },
        "id": "9KKVSzLOhUIW",
        "outputId": "4b12de4a-a6a3-47a1-8ca1-21bf3fffcda6"
      },
      "execution_count": null,
      "outputs": [
        {
          "output_type": "stream",
          "name": "stdout",
          "text": [
            "1/1 [==============================] - 0s 48ms/step\n",
            "[[211.99995]]\n"
          ]
        }
      ]
    },
    {
      "cell_type": "markdown",
      "source": [
        "## Looking at the layer weights"
      ],
      "metadata": {
        "id": "Ra_QC_jYiBm9"
      }
    },
    {
      "cell_type": "code",
      "source": [
        "print(\"These are the layer variables: {}\".format(l0.get_weights()))"
      ],
      "metadata": {
        "colab": {
          "base_uri": "https://localhost:8080/"
        },
        "id": "JKxICC43iCc2",
        "outputId": "7702168b-c7c7-4db8-b902-2b00d0f20e96"
      },
      "execution_count": null,
      "outputs": [
        {
          "output_type": "stream",
          "name": "stdout",
          "text": [
            "These are the layer variables: [array([[1.7999996]], dtype=float32), array([32.], dtype=float32)]\n"
          ]
        }
      ]
    },
    {
      "cell_type": "code",
      "source": [
        "%%time\n",
        "l0 = tf.keras.layers.Dense(units=4, input_shape=[1])\n",
        "l1 = tf.keras.layers.Dense(units=4)\n",
        "l2 = tf.keras.layers.Dense(units=1)\n",
        "model = tf.keras.Sequential([l0, l1, l2])\n",
        "model.compile(loss='mean_squared_error', optimizer=tf.keras.optimizers.Adam(0.1))\n",
        "model.fit(celsius_q, fahrenheit_a, epochs=500, verbose=False)\n",
        "print(\"Finished training the model\")\n",
        "print(model.predict([100.0]))\n",
        "print(\"Model predicts that 100 degrees Celsius is: {} degrees Fahrenheit\".format(model.predict([100.0])))\n",
        "print(\"These are the l0 variables: {}\".format(l0.get_weights()))\n",
        "print(\"These are the l1 variables: {}\".format(l1.get_weights()))\n",
        "print(\"These are the l2 variables: {}\".format(l2.get_weights()))"
      ],
      "metadata": {
        "colab": {
          "base_uri": "https://localhost:8080/"
        },
        "id": "fT68DefUijww",
        "outputId": "ffbcca51-e2bb-4968-a8fa-f1bfd212f995"
      },
      "execution_count": null,
      "outputs": [
        {
          "output_type": "stream",
          "name": "stdout",
          "text": [
            "Finished training the model\n",
            "1/1 [==============================] - 0s 75ms/step\n",
            "[[211.7474]]\n",
            "1/1 [==============================] - 0s 41ms/step\n",
            "Model predicts that 100 degrees Celsius is: [[211.7474]] degrees Fahrenheit\n",
            "These are the l0 variables: [array([[-0.23707184, -0.00634162, -0.1204462 ,  0.7582592 ]],\n",
            "      dtype=float32), array([-3.3523204,  3.1302085,  1.5328736,  3.4520605], dtype=float32)]\n",
            "These are the l1 variables: [array([[ 0.31052446,  0.19631404, -0.8353787 , -0.76514566],\n",
            "       [-0.2896309 ,  0.04554497,  0.8104627 ,  0.47164014],\n",
            "       [-0.3215886 ,  0.83208704, -0.00644418,  0.36916646],\n",
            "       [-0.5613525 , -0.64017785,  0.3827393 ,  0.6239718 ]],\n",
            "      dtype=float32), array([-3.1123517, -3.383245 ,  3.0363193,  3.3407857], dtype=float32)]\n",
            "These are the l2 variables: [array([[-1.0661529],\n",
            "       [-0.4318565],\n",
            "       [ 0.8725549],\n",
            "       [ 1.0106639]], dtype=float32), array([3.2185428], dtype=float32)]\n",
            "CPU times: user 2.43 s, sys: 68.7 ms, total: 2.5 s\n",
            "Wall time: 2.24 s\n"
          ]
        }
      ]
    },
    {
      "cell_type": "markdown",
      "source": [
        "\n",
        "\n",
        "---\n",
        "\n"
      ],
      "metadata": {
        "id": "5hzLraxJOzHR"
      }
    },
    {
      "cell_type": "code",
      "source": [
        "import random\n",
        "\n",
        "\n",
        "celsius_2 = []\n",
        "fahrenheit_2=[]\n",
        "\n",
        "for i in range(100):\n",
        "  c_scaled=  float(\"{:.2f}\".format(random.uniform(-10.5, 75.5)))\n",
        "  celsius_2.append(c_scaled)\n",
        "  f_scaled = float(\"{:.2f}\".format(cel_to_far(c_scaled)))\n",
        "  fahrenheit_2.append(f_scaled)\n"
      ],
      "metadata": {
        "id": "q-1UFsnripK6"
      },
      "execution_count": null,
      "outputs": []
    },
    {
      "cell_type": "code",
      "source": [
        "for i,c in enumerate(celsius_2):\n",
        "  print(c,\"degrees Celsius = \", fahrenheit_2[i],\"degrees Fahrenheit\")"
      ],
      "metadata": {
        "id": "OR-E8q85PcyJ"
      },
      "execution_count": null,
      "outputs": []
    },
    {
      "cell_type": "code",
      "source": [
        "import numpy as np"
      ],
      "metadata": {
        "id": "eAFiTbbqPHIv"
      },
      "execution_count": null,
      "outputs": []
    },
    {
      "cell_type": "code",
      "source": [
        "celsius_in = np.array(celsius_2,  dtype=float)\n",
        "fahrenheit_out = np.array(fahrenheit_2,  dtype=float)"
      ],
      "metadata": {
        "id": "bCmU4gqgEBYv"
      },
      "execution_count": null,
      "outputs": []
    },
    {
      "cell_type": "code",
      "source": [
        "%%time\n",
        "import tensorflow as tf\n",
        "import logging\n",
        "logger = tf.get_logger()\n",
        "logger.setLevel(logging.ERROR)\n",
        "\n",
        "l0 = tf.keras.layers.Dense(units=1, input_shape=[1])\n",
        "\n",
        "model = tf.keras.Sequential([l0])\n",
        "\n",
        "model.compile(loss='mean_squared_error',\n",
        "              optimizer=tf.keras.optimizers.Adam(0.1))\n",
        "\n",
        "\n",
        "history = model.fit(celsius_in, fahrenheit_out, epochs=500, verbose=False)\n",
        "print(\"Finished training the model\")\n",
        "\n",
        "\n",
        "\n",
        "\n",
        "\n",
        "print(\"These are the layer variables: {}\".format(l0.get_weights()))"
      ],
      "metadata": {
        "colab": {
          "base_uri": "https://localhost:8080/"
        },
        "id": "gQYHm2drEgmQ",
        "outputId": "b0120c53-5ce8-43dc-fa72-8d62aeb82330"
      },
      "execution_count": null,
      "outputs": [
        {
          "output_type": "stream",
          "name": "stdout",
          "text": [
            "Finished training the model\n",
            "1/1 [==============================] - 0s 52ms/step\n",
            "[[211.99902]]\n",
            "These are the layer variables: [array([[1.7999926]], dtype=float32), array([31.999763], dtype=float32)]\n",
            "CPU times: user 3.14 s, sys: 176 ms, total: 3.32 s\n",
            "Wall time: 3 s\n"
          ]
        }
      ]
    },
    {
      "cell_type": "code",
      "source": [
        "\n",
        "\n",
        "\n",
        "print(\"For 100.0 Celsius: \",model.predict([100.0]))"
      ],
      "metadata": {
        "colab": {
          "base_uri": "https://localhost:8080/"
        },
        "id": "iufTOVnfUgx4",
        "outputId": "ca3cfdad-2f09-4033-ea2b-28546ce98461"
      },
      "execution_count": null,
      "outputs": [
        {
          "output_type": "stream",
          "name": "stdout",
          "text": [
            "These are the layer variables: []\n"
          ]
        }
      ]
    }
  ]
}